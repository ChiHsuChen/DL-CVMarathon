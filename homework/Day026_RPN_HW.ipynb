{
  "nbformat": 4,
  "nbformat_minor": 0,
  "metadata": {
    "colab": {
      "name": "Day026_RPN_HW.ipynb",
      "provenance": []
    },
    "kernelspec": {
      "name": "python3",
      "display_name": "Python 3"
    }
  },
  "cells": [
    {
      "cell_type": "markdown",
      "metadata": {
        "id": "RoR_SmDGZQD5",
        "colab_type": "text"
      },
      "source": [
        "Google Colab上執行 SourceCode@Google Colab: https://colab.research.google.com/drive/1Ck36L5OqFVtlUe5QmTOka_2O5f-ebhhl"
      ]
    },
    {
      "cell_type": "code",
      "metadata": {
        "id": "2I9QxZ-zZL_l",
        "colab_type": "code",
        "colab": {
          "base_uri": "https://localhost:8080/",
          "height": 35
        },
        "outputId": "56c163fc-7293-442a-ef0e-ee806c8cb145"
      },
      "source": [
        "# _*_ coding: utf-8 _*_\n",
        "# _*_ coding: cp950 _*_\n",
        "\n",
        "# author: Chi-Hsu Chen (css920@gmail.com)\n",
        "\n",
        "import numpy as np\n",
        "import cv2\n",
        "import time\n",
        "from google.colab.patches import cv2_imshow\n",
        "\n",
        "from keras import utils\n",
        "from keras.preprocessing.image import ImageDataGenerator\n",
        "\n",
        "from keras.models import Model,Sequential,Input\n",
        "from keras.layers import Dense,Conv2D,Flatten,MaxPooling2D,Convolution2D\n",
        "from keras.layers import Input,GlobalAveragePooling2D,GlobalMaxPooling2D\n",
        "from keras.layers import BatchNormalization,Activation,Dropout,Reshape\n",
        "from keras import layers\n",
        "from keras import backend as K\n",
        "from keras.layers import Lambda\n",
        "from keras.layers import Concatenate\n",
        "from keras.layers import TimeDistributed\n",
        "\n",
        "from keras.datasets import cifar10\n",
        "from sklearn.preprocessing import OneHotEncoder\n",
        "\n",
        "import keras"
      ],
      "execution_count": 1,
      "outputs": [
        {
          "output_type": "stream",
          "text": [
            "Using TensorFlow backend.\n"
          ],
          "name": "stderr"
        }
      ]
    },
    {
      "cell_type": "code",
      "metadata": {
        "id": "mlsukg88f4sH",
        "colab_type": "code",
        "colab": {}
      },
      "source": [
        "input_shape_img = (1024, 1024, 3)\n",
        "img_input = Input(shape=input_shape_img)\n",
        "\n",
        "#'''先過一般CNN層提取特徵'''\n",
        "def nn_base(img_input):\n",
        "    # Block 1\n",
        "    x = Conv2D(64, (3, 3), activation='relu', padding='same', name='block1_conv1')(img_input)\n",
        "    x = Conv2D(64, (3, 3), activation='relu', padding='same', name='block1_conv2')(x)\n",
        "    # 縮水1/2 1024x1024 -> 512x512\n",
        "    x = MaxPooling2D((2, 2), strides=(2, 2), name='block1_pool')(x)\n",
        "\n",
        "    # Block 2\n",
        "    x = Conv2D(128, (3, 3), activation='relu', padding='same', name='block2_conv1')(x)\n",
        "    x = Conv2D(128, (3, 3), activation='relu', padding='same', name='block2_conv2')(x)\n",
        "    # 縮水1/2 512x512 -> 256x256\n",
        "    x = MaxPooling2D((2, 2), strides=(2, 2), name='block2_pool')(x)\n",
        "\n",
        "    # Block 3\n",
        "    x = Conv2D(256, (3, 3), activation='relu', padding='same', name='block3_conv1')(x)\n",
        "    x = Conv2D(256, (3, 3), activation='relu', padding='same', name='block3_conv2')(x)\n",
        "    x = Conv2D(256, (3, 3), activation='relu', padding='same', name='block3_conv3')(x)\n",
        "    # 縮水1/2 256x256 -> 128x128\n",
        "    x = MaxPooling2D((2, 2), strides=(2, 2), name='block3_pool')(x)\n",
        "\n",
        "    # Block 4\n",
        "    x = Conv2D(512, (3, 3), activation='relu', padding='same', name='block4_conv1')(x)\n",
        "    x = Conv2D(512, (3, 3), activation='relu', padding='same', name='block4_conv2')(x)\n",
        "    x = Conv2D(512, (3, 3), activation='relu', padding='same', name='block4_conv3')(x)\n",
        "    # 縮水1/2 128x128 -> 64x64\n",
        "    x = MaxPooling2D((2, 2), strides=(2, 2), name='block4_pool')(x)\n",
        "\n",
        "    # Block 5\n",
        "    x = Conv2D(512, (3, 3), activation='relu', padding='same', name='block5_conv1')(x)\n",
        "    x = Conv2D(512, (3, 3), activation='relu', padding='same', name='block5_conv2')(x)\n",
        "    x = Conv2D(512, (3, 3), activation='relu', padding='same', name='block5_conv3')(x)\n",
        "\n",
        "    # 最後返回的x是64x64x512的feature map。\n",
        "    return x"
      ],
      "execution_count": 2,
      "outputs": []
    },
    {
      "cell_type": "code",
      "metadata": {
        "id": "iFukk7aBgA5Z",
        "colab_type": "code",
        "colab": {}
      },
      "source": [
        "# RPN (Region Proposal Network)\n",
        "def rpn(base_layers, num_anchors):\n",
        "\n",
        "    x = Conv2D(512, kernel_size=(3,3), padding='same', activation='relu', kernel_initializer='normal', name='rpn_conv1')(base_layers)\n",
        "\n",
        "    # rpn分類和迴歸\n",
        "    # RPN輸出\n",
        "    # class => object / not object 以IOU>0.7決定\n",
        "    # regression => x,y,width,height\n",
        "    # 所以，以下x_class的Conv2D中num_anchors x 2 (object / not object)\n",
        "    # x_reg的Conv2D中num_anchors x 4 (x,y,width,height)\n",
        "    x_class = Conv2D(num_anchors*2, (1, 1), activation='softmax',name='rpn_out_class')(x)\n",
        "    x_reg = Conv2D(num_anchors *4, (1, 1), activation='linear', name='rpn_out_regress')(x)\n",
        "\n",
        "    return x_class, x_reg, base_layers"
      ],
      "execution_count": 17,
      "outputs": []
    },
    {
      "cell_type": "code",
      "metadata": {
        "id": "UzxbajePgPEi",
        "colab_type": "code",
        "colab": {
          "base_uri": "https://localhost:8080/",
          "height": 69
        },
        "outputId": "fe877def-0039-4562-afba-c52e66c30839"
      },
      "source": [
        "base_layers=nn_base(img_input)\n",
        "x_class, x_reg, base_layers=rpn(base_layers, 9)\n",
        "\n",
        "print('Classification支線：',x_class) #'''確認深度是否為18'''\n",
        "print('BBOX Regression 支線：',x_reg) #'''確認深度是否為36'''\n",
        "print('CNN Output：',base_layers)"
      ],
      "execution_count": 18,
      "outputs": [
        {
          "output_type": "stream",
          "text": [
            "Classification支線： Tensor(\"rpn_out_class_5/truediv:0\", shape=(None, 64, 64, 18), dtype=float32)\n",
            "BBOX Regression 支線： Tensor(\"rpn_out_regress_5/BiasAdd:0\", shape=(None, 64, 64, 36), dtype=float32)\n",
            "CNN Output： Tensor(\"block5_conv3_5/Relu:0\", shape=(None, 64, 64, 512), dtype=float32)\n"
          ],
          "name": "stdout"
        }
      ]
    }
  ]
}