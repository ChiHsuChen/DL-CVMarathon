# _*_ coding: utf-8 _*_
# _*_ coding: cp950 _*_

# author: Chi-Hsu Chen (css920@gmail.com)
# purpose: Day001_read_image_HW.ipynb
# datetime: 20200528

import numpy as np
import cv2
import urllib

def url_to_image(url):
	response = urllib.request.urlopen(url)
	image = np.asarray(bytearray(response.read()), dtype="uint8")
	image = cv2.imdecode(image, cv2.IMREAD_COLOR)
	return image

# main
imgSourceFromURL=url_to_image("http://optipng.sourceforge.net/pngtech/img/lena.png")
if imgSourceFromURL is None:
  print("imgSourceFromURL is nothing.SKIP...")
  exit

imgColor=cv2.imread("http://optipng.sourceforge.net/pngtech/img/lena.png",cv2.IMREAD_COLOR)
imgGray=cv2.imread("http://optipng.sourceforge.net/pngtech/img/lena.png",cv2.IMREAD_GRAYSCALE)

cv2.imshow('COLOR',imgColor)
cv2.imshow('GRAY',imgGray)

cv2.waitKey(0)
cv2.destroyAllWindows()
