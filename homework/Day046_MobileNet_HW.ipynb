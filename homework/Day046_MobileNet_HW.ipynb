{
  "nbformat": 4,
  "nbformat_minor": 0,
  "metadata": {
    "colab": {
      "name": "Day046_MobileNet_HW.ipynb",
      "provenance": []
    },
    "kernelspec": {
      "name": "python3",
      "display_name": "Python 3"
    }
  },
  "cells": [
    {
      "cell_type": "markdown",
      "metadata": {
        "id": "6XmBxMShdZet",
        "colab_type": "text"
      },
      "source": [
        "Google Colab:  \n",
        "https://colab.research.google.com/drive/1uJlMNTljE8dAv_o_k0ouz1RneyveKZ6x"
      ]
    },
    {
      "cell_type": "code",
      "metadata": {
        "id": "9lhyKeSOdXZ8",
        "colab_type": "code",
        "colab": {
          "base_uri": "https://localhost:8080/",
          "height": 35
        },
        "outputId": "af113a42-a2ca-4e0a-b54c-9a7852e4866d"
      },
      "source": [
        "from keras.models import Input, Model\n",
        "from keras.layers import DepthwiseConv2D, Conv2D, BatchNormalization, ReLU"
      ],
      "execution_count": null,
      "outputs": [
        {
          "output_type": "stream",
          "text": [
            "Using TensorFlow backend.\n"
          ],
          "name": "stderr"
        }
      ]
    },
    {
      "cell_type": "code",
      "metadata": {
        "id": "4MbiGf9cdkEf",
        "colab_type": "code",
        "colab": {}
      },
      "source": [
        "# 定義 Separable Convolution 函數 (請在此實做)\n",
        "def SeparableConv(input):\n",
        "    '''\n",
        "    Args:\n",
        "        input: input tensor\n",
        "    Output:\n",
        "        output: output tensor\n",
        "    '''"
      ],
      "execution_count": null,
      "outputs": []
    },
    {
      "cell_type": "code",
      "metadata": {
        "id": "GhyAEsnXdotH",
        "colab_type": "code",
        "colab": {}
      },
      "source": [
        "# 建構模型\n",
        "input = Input((64, 64, 3))\n",
        "output = SeparableConv(input)\n",
        "model = Model(inputs=input, outputs=output)\n",
        "model.summary()"
      ],
      "execution_count": null,
      "outputs": []
    }
  ]
}