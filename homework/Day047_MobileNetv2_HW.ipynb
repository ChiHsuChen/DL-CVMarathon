{
  "nbformat": 4,
  "nbformat_minor": 0,
  "metadata": {
    "colab": {
      "name": "Day047_MobileNetv2_HW.ipynb",
      "provenance": []
    },
    "kernelspec": {
      "name": "python3",
      "display_name": "Python 3"
    }
  },
  "cells": [
    {
      "cell_type": "markdown",
      "metadata": {
        "id": "3OAMaiogro53",
        "colab_type": "text"
      },
      "source": [
        "Google Colab:  \n",
        "https://colab.research.google.com/drive/1Q3SdF8A4xK8U-RZDCOp3VclKvIl6svT2"
      ]
    },
    {
      "cell_type": "code",
      "metadata": {
        "id": "MuXl64Hfri-4",
        "colab_type": "code",
        "colab": {}
      },
      "source": [
        "from keras.models import Input, Model\n",
        "from keras.layers import DepthwiseConv2D, Conv2D, BatchNormalization, ReLU, Add"
      ],
      "execution_count": null,
      "outputs": []
    },
    {
      "cell_type": "code",
      "metadata": {
        "id": "ZZYsYBgwrxKo",
        "colab_type": "code",
        "colab": {}
      },
      "source": [
        "def InvertedRes(input, expansion):\n",
        "    '''\n",
        "    Args:\n",
        "        input: input tensor\n",
        "        expansion: expand filters size\n",
        "    Output:\n",
        "        output: output tensor\n",
        "    '''"
      ],
      "execution_count": null,
      "outputs": []
    },
    {
      "cell_type": "code",
      "metadata": {
        "id": "O_-fddFxrzK6",
        "colab_type": "code",
        "colab": {}
      },
      "source": [
        "input = Input((64, 64, 3))\n",
        "output = InvertedRes(input, 6)\n",
        "model = Model(inputs=input, outputs=output)\n",
        "model.summary()"
      ],
      "execution_count": null,
      "outputs": []
    }
  ]
}