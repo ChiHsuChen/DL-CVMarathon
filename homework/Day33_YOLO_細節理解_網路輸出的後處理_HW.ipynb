{
  "nbformat": 4,
  "nbformat_minor": 0,
  "metadata": {
    "colab": {
      "name": "Day33_YOLO 細節理解 - 網路輸出的後處理_HW.ipynb",
      "provenance": [],
      "collapsed_sections": []
    },
    "kernelspec": {
      "name": "python3",
      "display_name": "Python 3"
    }
  },
  "cells": [
    {
      "cell_type": "markdown",
      "metadata": {
        "id": "mr5NaYBwRJzA",
        "colab_type": "text"
      },
      "source": [
        "Google Colab上執行 SourceCode@Google Colab: https://colab.research.google.com/drive/1LcVDmAqBbD_2KMrMSEcmLKU7yJJ1WKuI"
      ]
    },
    {
      "cell_type": "code",
      "metadata": {
        "id": "2I9QxZ-zZL_l",
        "colab_type": "code",
        "colab": {
          "base_uri": "https://localhost:8080/",
          "height": 35
        },
        "outputId": "9db7c319-c659-48c0-dc71-26753e1e2311"
      },
      "source": [
        "# _*_ coding: utf-8 _*_\n",
        "# _*_ coding: cp950 _*_\n",
        "\n",
        "# author: Chi-Hsu Chen (css920@gmail.com)\n",
        "\n",
        "import numpy as np\n",
        "import cv2\n",
        "import time\n",
        "from google.colab.patches import cv2_imshow\n",
        "\n",
        "from keras import utils\n",
        "from keras.preprocessing.image import ImageDataGenerator\n",
        "\n",
        "from keras.models import Model,Sequential,Input\n",
        "from keras.layers import Dense,Conv2D,Flatten,MaxPooling2D,Convolution2D\n",
        "from keras.layers import Input,GlobalAveragePooling2D,GlobalMaxPooling2D\n",
        "from keras.layers import BatchNormalization,Activation,Dropout,Reshape\n",
        "from keras import layers\n",
        "from keras import backend as K\n",
        "from keras.layers import Lambda\n",
        "from keras.layers import Concatenate\n",
        "\n",
        "from keras.datasets import cifar10\n",
        "from sklearn.preprocessing import OneHotEncoder\n",
        "\n",
        "import keras"
      ],
      "execution_count": 1,
      "outputs": [
        {
          "output_type": "stream",
          "text": [
            "Using TensorFlow backend.\n"
          ],
          "name": "stderr"
        }
      ]
    },
    {
      "cell_type": "code",
      "metadata": {
        "id": "KOL1liFvSs2S",
        "colab_type": "code",
        "colab": {}
      },
      "source": [
        "# 在NMS流程中，IoU重疊率參數(nms_threshold )調高，試著思考一下輸出的預測框會有甚麼變化? \n",
        "# Hint: 可以回頭看今天介紹的內容，思考輸出的預測框變多或變少?\n",
        "# Ans:變多"
      ],
      "execution_count": null,
      "outputs": []
    }
  ]
}