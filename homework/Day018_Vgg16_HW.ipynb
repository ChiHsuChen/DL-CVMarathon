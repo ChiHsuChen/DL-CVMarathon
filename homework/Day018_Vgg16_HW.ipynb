{
  "nbformat": 4,
  "nbformat_minor": 0,
  "metadata": {
    "colab": {
      "name": "Day018_Vgg16_HW.ipynb",
      "provenance": []
    },
    "kernelspec": {
      "name": "python3",
      "display_name": "Python 3"
    }
  },
  "cells": [
    {
      "cell_type": "markdown",
      "metadata": {
        "id": "LmyrYtAEdLwn",
        "colab_type": "text"
      },
      "source": [
        "Google Colab上執行  \n",
        "使用Lena，放在google colab的sample_data目錄下後再進行存取  \n",
        "SourceCode@Google Colab: https://colab.research.google.com/drive/1y2QkKbeeFNnLZBwtRVOOVQOc0KmJMVGz"
      ]
    },
    {
      "cell_type": "code",
      "metadata": {
        "id": "2YEFNs3Gz8JQ",
        "colab_type": "code",
        "colab": {}
      },
      "source": [
        "# _*_ coding: utf-8 _*_\n",
        "# _*_ coding: cp950 _*_\n",
        "\n",
        "# author: Chi-Hsu Chen (css920@gmail.com)\n",
        "\n",
        "import numpy as np\n",
        "import cv2\n",
        "import time\n",
        "from google.colab.patches import cv2_imshow\n",
        "\n",
        "from keras import utils\n",
        "from keras.preprocessing.image import ImageDataGenerator\n",
        "\n",
        "from keras.models import Model,Sequential\n",
        "from keras.layers import Dense,Conv2D,Flatten,MaxPooling2D\n",
        "from keras.layers import Input,GlobalAveragePooling2D,GlobalMaxPooling2D\n"
      ],
      "execution_count": 0,
      "outputs": []
    },
    {
      "cell_type": "markdown",
      "metadata": {
        "id": "5V4QH3U0M4Zm",
        "colab_type": "text"
      },
      "source": [
        "VGG16模型架構\n",
        "![VGG16模型](https://github.com/ChiHsuChen/DL-CVMarathon/blob/master/homework/VGG16_p.png?raw=true)"
      ]
    },
    {
      "cell_type": "markdown",
      "metadata": {
        "id": "BIsUg9FEOBiz",
        "colab_type": "text"
      },
      "source": [
        "# VGG16模型建構"
      ]
    },
    {
      "cell_type": "code",
      "metadata": {
        "id": "0bzdSSZ1OEi9",
        "colab_type": "code",
        "colab": {}
      },
      "source": [
        "def VGG16(include_top=True,pooling='max'):\n",
        "  # include_top=True -> 加入全連接層作為分類使用\n",
        "  # include_top=False -> 只用VGG16作為擷取特徵\n",
        "\n",
        "  model=Sequential()\n",
        "  \n",
        "  # 輸入大小: 224*224*1\n",
        "  input_shape=(224,224,3)\n",
        "  \n",
        "  # block 1\n",
        "  model.add(Conv2D(filters=64,kernel_size=(3,3),padding='same',activation='relu',input_shape=input_shape,name='block1_conv1'))\n",
        "  model.add(Conv2D(filters=64,kernel_size=(3,3),padding='same',activation='relu',name='block1_conv2'))\n",
        "  model.add(MaxPooling2D(pool_size=(2,2),strides=(2,2),name='block1_maxpooling1'))\n",
        "  \n",
        "  # block 2\n",
        "  model.add(Conv2D(filters=128,kernel_size=(3,3),padding='same',activation='relu',name='block2_conv1'))\n",
        "  model.add(Conv2D(filters=128,kernel_size=(3,3),padding='same',activation='relu',name='block2_conv2'))\n",
        "  model.add(MaxPooling2D(pool_size=(2,2),strides=(2,2),name='block2_maxpooling1'))\n",
        "  \n",
        "  # block 3\n",
        "  model.add(Conv2D(filters=256,kernel_size=(3,3),padding='same',activation='relu',name='block3_conv1'))\n",
        "  model.add(Conv2D(filters=256,kernel_size=(3,3),padding='same',activation='relu',name='block3_conv2'))\n",
        "  model.add(MaxPooling2D(pool_size=(2,2),strides=(2,2),name='block3_maxpooling1'))\n",
        "  \n",
        "  # block 4\n",
        "  model.add(Conv2D(filters=512,kernel_size=(3,3),padding='same',activation='relu',name='block4_conv1'))\n",
        "  model.add(Conv2D(filters=512,kernel_size=(3,3),padding='same',activation='relu',name='block4_conv2'))\n",
        "  model.add(MaxPooling2D(pool_size=(2,2),strides=(2,2),name='block4_maxpooling1'))\n",
        "  \n",
        "  # block 5\n",
        "  model.add(Conv2D(filters=512,kernel_size=(3,3),padding='same',activation='relu',name='block5_conv1'))\n",
        "  model.add(Conv2D(filters=512,kernel_size=(3,3),padding='same',activation='relu',name='block5_conv2'))\n",
        "  model.add(MaxPooling2D(pool_size=(2,2),strides=(2,2),name='block5_maxpooling1'))\n",
        "  \n",
        "  if include_top==True:\n",
        "    # block6\n",
        "    # Flatten\n",
        "    model.add(Flatten(name='block6_flatten'))\n",
        "    # FC 1 - 4096\n",
        "    model.add(Dense(4096,activation='relu',name='block6_fc1'))\n",
        "    # FC 2 - 4096\n",
        "    model.add(Dense(4096,activation='relu',name='block6_fc2'))\n",
        "    # FC 3 - 1000\n",
        "    model.add(Dense(1000,activation='softmax',name='block6_output'))\n",
        "  else:\n",
        "    if pooling=='max':\n",
        "      model.add(GlobalMaxPooling2D())\n",
        "    elif pooling=='avg':\n",
        "      model.add(GlobalAveragePooling2D())\n",
        "\n",
        "  return model\n",
        "\n"
      ],
      "execution_count": 0,
      "outputs": []
    },
    {
      "cell_type": "code",
      "metadata": {
        "id": "B5OoDbMPUyba",
        "colab_type": "code",
        "colab": {
          "base_uri": "https://localhost:8080/",
          "height": 815
        },
        "outputId": "3702ab1d-cf74-4daa-dbc6-69510c97a98b"
      },
      "source": [
        "# 包含全連接層\n",
        "vgg16_model_INCLUDE=VGG16(include_top=True)\n",
        "vgg16_model_INCLUDE.summary()"
      ],
      "execution_count": 29,
      "outputs": [
        {
          "output_type": "stream",
          "text": [
            "Model: \"sequential_20\"\n",
            "_________________________________________________________________\n",
            "Layer (type)                 Output Shape              Param #   \n",
            "=================================================================\n",
            "block1_conv1 (Conv2D)        (None, 224, 224, 64)      1792      \n",
            "_________________________________________________________________\n",
            "block1_conv2 (Conv2D)        (None, 224, 224, 64)      36928     \n",
            "_________________________________________________________________\n",
            "block1_maxpooling1 (MaxPooli (None, 112, 112, 64)      0         \n",
            "_________________________________________________________________\n",
            "block2_conv1 (Conv2D)        (None, 112, 112, 128)     73856     \n",
            "_________________________________________________________________\n",
            "block2_conv2 (Conv2D)        (None, 112, 112, 128)     147584    \n",
            "_________________________________________________________________\n",
            "block2_maxpooling1 (MaxPooli (None, 56, 56, 128)       0         \n",
            "_________________________________________________________________\n",
            "block3_conv1 (Conv2D)        (None, 56, 56, 256)       295168    \n",
            "_________________________________________________________________\n",
            "block3_conv2 (Conv2D)        (None, 56, 56, 256)       590080    \n",
            "_________________________________________________________________\n",
            "block3_maxpooling1 (MaxPooli (None, 28, 28, 256)       0         \n",
            "_________________________________________________________________\n",
            "block4_conv1 (Conv2D)        (None, 28, 28, 512)       1180160   \n",
            "_________________________________________________________________\n",
            "block4_conv2 (Conv2D)        (None, 28, 28, 512)       2359808   \n",
            "_________________________________________________________________\n",
            "block4_maxpooling1 (MaxPooli (None, 14, 14, 512)       0         \n",
            "_________________________________________________________________\n",
            "block5_conv1 (Conv2D)        (None, 14, 14, 512)       2359808   \n",
            "_________________________________________________________________\n",
            "block5_conv2 (Conv2D)        (None, 14, 14, 512)       2359808   \n",
            "_________________________________________________________________\n",
            "block5_maxpooling1 (MaxPooli (None, 7, 7, 512)         0         \n",
            "_________________________________________________________________\n",
            "block6_flatten (Flatten)     (None, 25088)             0         \n",
            "_________________________________________________________________\n",
            "block6_fc1 (Dense)           (None, 4096)              102764544 \n",
            "_________________________________________________________________\n",
            "block6_fc2 (Dense)           (None, 4096)              16781312  \n",
            "_________________________________________________________________\n",
            "block6_output (Dense)        (None, 1000)              4097000   \n",
            "=================================================================\n",
            "Total params: 133,047,848\n",
            "Trainable params: 133,047,848\n",
            "Non-trainable params: 0\n",
            "_________________________________________________________________\n"
          ],
          "name": "stdout"
        }
      ]
    },
    {
      "cell_type": "code",
      "metadata": {
        "id": "EVQ9JQRMWhA0",
        "colab_type": "code",
        "colab": {
          "base_uri": "https://localhost:8080/",
          "height": 711
        },
        "outputId": "a1e47da8-15c7-4797-e323-021db2126fab"
      },
      "source": [
        "# 不包含全連接層\n",
        "vgg16_model_NOTINCLUDE=VGG16(include_top=False)\n",
        "vgg16_model_NOTINCLUDE.summary()"
      ],
      "execution_count": 28,
      "outputs": [
        {
          "output_type": "stream",
          "text": [
            "Model: \"sequential_19\"\n",
            "_________________________________________________________________\n",
            "Layer (type)                 Output Shape              Param #   \n",
            "=================================================================\n",
            "block1_conv1 (Conv2D)        (None, 224, 224, 64)      1792      \n",
            "_________________________________________________________________\n",
            "block1_conv2 (Conv2D)        (None, 224, 224, 64)      36928     \n",
            "_________________________________________________________________\n",
            "block1_maxpooling1 (MaxPooli (None, 112, 112, 64)      0         \n",
            "_________________________________________________________________\n",
            "block2_conv1 (Conv2D)        (None, 112, 112, 128)     73856     \n",
            "_________________________________________________________________\n",
            "block2_conv2 (Conv2D)        (None, 112, 112, 128)     147584    \n",
            "_________________________________________________________________\n",
            "block2_maxpooling1 (MaxPooli (None, 56, 56, 128)       0         \n",
            "_________________________________________________________________\n",
            "block3_conv1 (Conv2D)        (None, 56, 56, 256)       295168    \n",
            "_________________________________________________________________\n",
            "block3_conv2 (Conv2D)        (None, 56, 56, 256)       590080    \n",
            "_________________________________________________________________\n",
            "block3_maxpooling1 (MaxPooli (None, 28, 28, 256)       0         \n",
            "_________________________________________________________________\n",
            "block4_conv1 (Conv2D)        (None, 28, 28, 512)       1180160   \n",
            "_________________________________________________________________\n",
            "block4_conv2 (Conv2D)        (None, 28, 28, 512)       2359808   \n",
            "_________________________________________________________________\n",
            "block4_maxpooling1 (MaxPooli (None, 14, 14, 512)       0         \n",
            "_________________________________________________________________\n",
            "block5_conv1 (Conv2D)        (None, 14, 14, 512)       2359808   \n",
            "_________________________________________________________________\n",
            "block5_conv2 (Conv2D)        (None, 14, 14, 512)       2359808   \n",
            "_________________________________________________________________\n",
            "block5_maxpooling1 (MaxPooli (None, 7, 7, 512)         0         \n",
            "_________________________________________________________________\n",
            "global_max_pooling2d_2 (Glob (None, 512)               0         \n",
            "=================================================================\n",
            "Total params: 9,404,992\n",
            "Trainable params: 9,404,992\n",
            "Non-trainable params: 0\n",
            "_________________________________________________________________\n"
          ],
          "name": "stdout"
        }
      ]
    }
  ]
}