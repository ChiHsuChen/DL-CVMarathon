{
  "nbformat": 4,
  "nbformat_minor": 0,
  "metadata": {
    "colab": {
      "name": "Day012_Strides and Padding_HW.ipynb",
      "provenance": []
    },
    "kernelspec": {
      "name": "python3",
      "display_name": "Python 3"
    }
  },
  "cells": [
    {
      "cell_type": "markdown",
      "metadata": {
        "id": "HqMgCJZoGXKu",
        "colab_type": "text"
      },
      "source": [
        "Google Colab上執行  \n",
        "使用Lena，放在google colab的sample_data目錄下後再進行存取  \n",
        "SourceCode@Google Colab: https://colab.research.google.com/drive/1u53vee5CE4ewyjRTRAtIa2rgZ_U2umVc"
      ]
    },
    {
      "cell_type": "code",
      "metadata": {
        "id": "Nf62G3XSGSIu",
        "colab_type": "code",
        "colab": {
          "base_uri": "https://localhost:8080/",
          "height": 35
        },
        "outputId": "1df32643-498c-4096-b384-6ffde41e6efe"
      },
      "source": [
        "# _*_ coding: utf-8 _*_\n",
        "# _*_ coding: cp950 _*_\n",
        "\n",
        "# author: Chi-Hsu Chen (css920@gmail.com)\n",
        "\n",
        "import numpy as np\n",
        "import cv2\n",
        "import time\n",
        "from google.colab.patches import cv2_imshow\n",
        "\n",
        "from keras.models import Sequential\n",
        "from keras.layers import Convolution2D\n",
        "from keras.layers import Input, Dense\n",
        "from keras.models import Model"
      ],
      "execution_count": 1,
      "outputs": [
        {
          "output_type": "stream",
          "text": [
            "Using TensorFlow backend.\n"
          ],
          "name": "stderr"
        }
      ]
    },
    {
      "cell_type": "markdown",
      "metadata": {
        "id": "EUG7pOE_IsFr",
        "colab_type": "text"
      },
      "source": [
        "# Same padding、strides=(1,1)"
      ]
    },
    {
      "cell_type": "code",
      "metadata": {
        "id": "_tFZ-LXqGp1C",
        "colab_type": "code",
        "colab": {
          "base_uri": "https://localhost:8080/",
          "height": 243
        },
        "outputId": "ecfc8721-b4a8-4f9d-ad8a-bae8212fd2a1"
      },
      "source": [
        "# input layer\n",
        "# 輸入大小 = 13 * 13 * 1\n",
        "inputs=Input(shape=(13,13,1))\n",
        "\n",
        "# Conv2D layer\n",
        "##kernel size=(6,6) kernel數量：32\n",
        "layer_1=Convolution2D(filters=32,kernel_size=(6,6),strides=(1,1),padding='same')(inputs)\n",
        "\n",
        "# 使用Model直接設定inputs + outputs\n",
        "model=Model(inputs=inputs,outputs=layer_1)\n",
        "\n",
        "print(model.summary())"
      ],
      "execution_count": 9,
      "outputs": [
        {
          "output_type": "stream",
          "text": [
            "Model: \"model_3\"\n",
            "_________________________________________________________________\n",
            "Layer (type)                 Output Shape              Param #   \n",
            "=================================================================\n",
            "input_8 (InputLayer)         (None, 13, 13, 1)         0         \n",
            "_________________________________________________________________\n",
            "conv2d_6 (Conv2D)            (None, 13, 13, 32)        1184      \n",
            "=================================================================\n",
            "Total params: 1,184\n",
            "Trainable params: 1,184\n",
            "Non-trainable params: 0\n",
            "_________________________________________________________________\n",
            "None\n"
          ],
          "name": "stdout"
        }
      ]
    },
    {
      "cell_type": "markdown",
      "metadata": {
        "colab_type": "text",
        "id": "28QNWFj7IvRH"
      },
      "source": [
        "# Same padding、strides=(2,2)"
      ]
    },
    {
      "cell_type": "code",
      "metadata": {
        "colab_type": "code",
        "outputId": "ce025e7a-dc0f-4aa3-c586-5bdceb7035e4",
        "id": "6CHxB5e0IvRL",
        "colab": {
          "base_uri": "https://localhost:8080/",
          "height": 243
        }
      },
      "source": [
        "# input layer\n",
        "# 輸入大小 = 13 * 13 * 1\n",
        "inputs=Input(shape=(13,13,1))\n",
        "\n",
        "# Conv2D layer\n",
        "##kernel size=(6,6) kernel數量：32\n",
        "layer_1=Convolution2D(filters=32,kernel_size=(6,6),strides=(2,2),padding='same')(inputs)\n",
        "\n",
        "# 使用Model直接設定inputs + outputs\n",
        "model=Model(inputs=inputs,outputs=layer_1)\n",
        "\n",
        "print(model.summary())"
      ],
      "execution_count": 10,
      "outputs": [
        {
          "output_type": "stream",
          "text": [
            "Model: \"model_4\"\n",
            "_________________________________________________________________\n",
            "Layer (type)                 Output Shape              Param #   \n",
            "=================================================================\n",
            "input_9 (InputLayer)         (None, 13, 13, 1)         0         \n",
            "_________________________________________________________________\n",
            "conv2d_7 (Conv2D)            (None, 7, 7, 32)          1184      \n",
            "=================================================================\n",
            "Total params: 1,184\n",
            "Trainable params: 1,184\n",
            "Non-trainable params: 0\n",
            "_________________________________________________________________\n",
            "None\n"
          ],
          "name": "stdout"
        }
      ]
    },
    {
      "cell_type": "markdown",
      "metadata": {
        "colab_type": "text",
        "id": "l06jdd1lIwRU"
      },
      "source": [
        "# Valid padding、strides=(1,1)"
      ]
    },
    {
      "cell_type": "code",
      "metadata": {
        "colab_type": "code",
        "outputId": "9fcf7615-dcf4-4580-c183-0fbbbf4d5125",
        "id": "jzSBaGpfIwRV",
        "colab": {
          "base_uri": "https://localhost:8080/",
          "height": 243
        }
      },
      "source": [
        "# input layer\n",
        "# 輸入大小 = 13 * 13 * 1\n",
        "inputs=Input(shape=(13,13,1))\n",
        "\n",
        "# Conv2D layer\n",
        "##kernel size=(6,6) kernel數量：32\n",
        "layer_1=Convolution2D(filters=32,kernel_size=(6,6),strides=(1,1),padding='valid')(inputs)\n",
        "\n",
        "# 使用Model直接設定inputs + outputs\n",
        "model=Model(inputs=inputs,outputs=layer_1)\n",
        "\n",
        "print(model.summary())"
      ],
      "execution_count": 12,
      "outputs": [
        {
          "output_type": "stream",
          "text": [
            "Model: \"model_6\"\n",
            "_________________________________________________________________\n",
            "Layer (type)                 Output Shape              Param #   \n",
            "=================================================================\n",
            "input_11 (InputLayer)        (None, 13, 13, 1)         0         \n",
            "_________________________________________________________________\n",
            "conv2d_9 (Conv2D)            (None, 8, 8, 32)          1184      \n",
            "=================================================================\n",
            "Total params: 1,184\n",
            "Trainable params: 1,184\n",
            "Non-trainable params: 0\n",
            "_________________________________________________________________\n",
            "None\n"
          ],
          "name": "stdout"
        }
      ]
    },
    {
      "cell_type": "markdown",
      "metadata": {
        "colab_type": "text",
        "id": "5h5xhQhyIxKr"
      },
      "source": [
        "# Valid padding、strides=(2,2)"
      ]
    },
    {
      "cell_type": "code",
      "metadata": {
        "colab_type": "code",
        "outputId": "96ee1216-3461-4aed-fb9b-4fb109c7d2cf",
        "id": "MxcvI-uPIxKs",
        "colab": {
          "base_uri": "https://localhost:8080/",
          "height": 243
        }
      },
      "source": [
        "# input layer\n",
        "# 輸入大小 = 13 * 13 * 1\n",
        "inputs=Input(shape=(13,13,1))\n",
        "\n",
        "# Conv2D layer\n",
        "##kernel size=(6,6) kernel數量：32\n",
        "layer_1=Convolution2D(filters=32,kernel_size=(6,6),strides=(2,2),padding='valid')(inputs)\n",
        "\n",
        "# 使用Model直接設定inputs + outputs\n",
        "model=Model(inputs=inputs,outputs=layer_1)\n",
        "\n",
        "print(model.summary())"
      ],
      "execution_count": 11,
      "outputs": [
        {
          "output_type": "stream",
          "text": [
            "Model: \"model_5\"\n",
            "_________________________________________________________________\n",
            "Layer (type)                 Output Shape              Param #   \n",
            "=================================================================\n",
            "input_10 (InputLayer)        (None, 13, 13, 1)         0         \n",
            "_________________________________________________________________\n",
            "conv2d_8 (Conv2D)            (None, 4, 4, 32)          1184      \n",
            "=================================================================\n",
            "Total params: 1,184\n",
            "Trainable params: 1,184\n",
            "Non-trainable params: 0\n",
            "_________________________________________________________________\n",
            "None\n"
          ],
          "name": "stdout"
        }
      ]
    }
  ]
}