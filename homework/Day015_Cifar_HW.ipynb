{
  "nbformat": 4,
  "nbformat_minor": 0,
  "metadata": {
    "colab": {
      "name": "Day015_Cifar_HW.ipynb",
      "provenance": [],
      "collapsed_sections": []
    },
    "kernelspec": {
      "name": "python3",
      "display_name": "Python 3"
    },
    "accelerator": "GPU"
  },
  "cells": [
    {
      "cell_type": "markdown",
      "metadata": {
        "id": "LmyrYtAEdLwn",
        "colab_type": "text"
      },
      "source": [
        "Google Colab上執行  \n",
        "使用Lena，放在google colab的sample_data目錄下後再進行存取  \n",
        "SourceCode@Google Colab: https://colab.research.google.com/drive/1hqvHxRxWwhTwDOqbRT76iFop9S11A1BP"
      ]
    },
    {
      "cell_type": "code",
      "metadata": {
        "id": "rkacJBZMhUAD",
        "colab_type": "code",
        "outputId": "c1853e8d-17d0-4872-cd33-f930efec0fdd",
        "colab": {
          "base_uri": "https://localhost:8080/",
          "height": 35
        }
      },
      "source": [
        "# _*_ coding: utf-8 _*_\n",
        "# _*_ coding: cp950 _*_\n",
        "\n",
        "# author: Chi-Hsu Chen (css920@gmail.com)\n",
        "\n",
        "import numpy as np\n",
        "import cv2\n",
        "import time\n",
        "from google.colab.patches import cv2_imshow\n",
        "\n",
        "from keras import utils"
      ],
      "execution_count": 1,
      "outputs": [
        {
          "output_type": "stream",
          "text": [
            "Using TensorFlow backend.\n"
          ],
          "name": "stderr"
        }
      ]
    },
    {
      "cell_type": "markdown",
      "metadata": {
        "id": "Uh4UD3Y9k5GQ",
        "colab_type": "text"
      },
      "source": [
        "# 載入CIFAR10資料集"
      ]
    },
    {
      "cell_type": "code",
      "metadata": {
        "id": "28XrMsgIh4DI",
        "colab_type": "code",
        "outputId": "9b8b22ee-a8f3-47cd-d658-c20531cef498",
        "colab": {
          "base_uri": "https://localhost:8080/",
          "height": 52
        }
      },
      "source": [
        "# 載入CIFAR10資料集\n",
        "from keras.datasets import cifar10\n",
        "(x_train,y_train),(x_test,y_test)=cifar10.load_data()"
      ],
      "execution_count": 2,
      "outputs": [
        {
          "output_type": "stream",
          "text": [
            "Downloading data from https://www.cs.toronto.edu/~kriz/cifar-10-python.tar.gz\n",
            "170500096/170498071 [==============================] - 6s 0us/step\n"
          ],
          "name": "stdout"
        }
      ]
    },
    {
      "cell_type": "code",
      "metadata": {
        "id": "TQAm7pmxjR2L",
        "colab_type": "code",
        "outputId": "701a0816-044f-4c0c-a20c-6266cb1994bd",
        "colab": {
          "base_uri": "https://localhost:8080/",
          "height": 761
        }
      },
      "source": [
        "# CIFAR10資料\n",
        "# 訓練資料集合：50000張32*32大小的圖片，3代表3 channel(BGR)\n",
        "print('shape of x_train',x_train.shape)\n",
        "print('shape of y_train',y_train.shape)\n",
        "# 標籤資料集合:有50000張圖片，各自對應一個標籤\n",
        "print('shape of x_test',x_test.shape)\n",
        "print('shape of y_test',y_test.shape)\n",
        "\n",
        "print('以下顯示10張訓練用圖')\n",
        "# 以下顯示10張訓練用圖\n",
        "for i in range(10):\n",
        "  cv2_imshow(x_train[i])\n",
        "\n",
        "print('以下顯示10張驗證用圖')\n",
        "# 以下顯示10張訓練用圖\n",
        "for i in range(10):\n",
        "  cv2_imshow(x_test[i])"
      ],
      "execution_count": 3,
      "outputs": [
        {
          "output_type": "stream",
          "text": [
            "shape of x_train (50000, 32, 32, 3)\n",
            "shape of y_train (50000, 1)\n",
            "shape of x_test (10000, 32, 32, 3)\n",
            "shape of y_test (10000, 1)\n",
            "以下顯示10張訓練用圖\n"
          ],
          "name": "stdout"
        },
        {
          "output_type": "display_data",
          "data": {
            "image/png": "[encoded data removed]",
            "text/plain": [
              "<PIL.Image.Image image mode=RGB size=32x32 at 0x7F3E868BE1D0>"
            ]
          },
          "metadata": {
            "tags": []
          }
        },
        {
          "output_type": "display_data",
          "data": {
            "image/png": "[encoded data removed]",
            "text/plain": [
              "<PIL.Image.Image image mode=RGB size=32x32 at 0x7F3E868BE1D0>"
            ]
          },
          "metadata": {
            "tags": []
          }
        },
        {
          "output_type": "display_data",
          "data": {
            "image/png": "[encoded data removed]",
            "text/plain": [
              "<PIL.Image.Image image mode=RGB size=32x32 at 0x7F3E868BE208>"
            ]
          },
          "metadata": {
            "tags": []
          }
        },
        {
          "output_type": "display_data",
          "data": {
            "image/png": "[encoded data removed]",
            "text/plain": [
              "<PIL.Image.Image image mode=RGB size=32x32 at 0x7F3E85FEA5F8>"
            ]
          },
          "metadata": {
            "tags": []
          }
        },
        {
          "output_type": "display_data",
          "data": {
            "image/png": "[encoded data removed]",
            "text/plain": [
              "<PIL.Image.Image image mode=RGB size=32x32 at 0x7F3E868BE278>"
            ]
          },
          "metadata": {
            "tags": []
          }
        },
        {
          "output_type": "display_data",
          "data": {
            "image/png": "[encoded data removed]",
            "text/plain": [
              "<PIL.Image.Image image mode=RGB size=32x32 at 0x7F3E868BE208>"
            ]
          },
          "metadata": {
            "tags": []
          }
        },
        {
          "output_type": "display_data",
          "data": {
            "image/png": "[encoded data removed]",
            "text/plain": [
              "<PIL.Image.Image image mode=RGB size=32x32 at 0x7F3E868BE208>"
            ]
          },
          "metadata": {
            "tags": []
          }
        },
        {
          "output_type": "display_data",
          "data": {
            "image/png": "[encoded data removed]",
            "text/plain": [
              "<PIL.Image.Image image mode=RGB size=32x32 at 0x7F3E868BE1D0>"
            ]
          },
          "metadata": {
            "tags": []
          }
        },
        {
          "output_type": "display_data",
          "data": {
            "image/png": "[encoded data removed]",
            "text/plain": [
              "<PIL.Image.Image image mode=RGB size=32x32 at 0x7F3E85FE0CF8>"
            ]
          },
          "metadata": {
            "tags": []
          }
        },
        {
          "output_type": "display_data",
          "data": {
            "image/png": "[encoded data removed]",
            "text/plain": [
              "<PIL.Image.Image image mode=RGB size=32x32 at 0x7F3E868BE278>"
            ]
          },
          "metadata": {
            "tags": []
          }
        },
        {
          "output_type": "stream",
          "text": [
            "以下顯示10張驗證用圖\n"
          ],
          "name": "stdout"
        },
        {
          "output_type": "display_data",
          "data": {
            "image/png": "[encoded data removed]",
            "text/plain": [
              "<PIL.Image.Image image mode=RGB size=32x32 at 0x7F3E85FEA5F8>"
            ]
          },
          "metadata": {
            "tags": []
          }
        },
        {
          "output_type": "display_data",
          "data": {
            "image/png": "[encoded data removed]",
            "text/plain": [
              "<PIL.Image.Image image mode=RGB size=32x32 at 0x7F3E868BE208>"
            ]
          },
          "metadata": {
            "tags": []
          }
        },
        {
          "output_type": "display_data",
          "data": {
            "image/png": "[encoded data removed]",
            "text/plain": [
              "<PIL.Image.Image image mode=RGB size=32x32 at 0x7F3E868BE278>"
            ]
          },
          "metadata": {
            "tags": []
          }
        },
        {
          "output_type": "display_data",
          "data": {
            "image/png": "[encoded data removed]",
            "text/plain": [
              "<PIL.Image.Image image mode=RGB size=32x32 at 0x7F3E868BE278>"
            ]
          },
          "metadata": {
            "tags": []
          }
        },
        {
          "output_type": "display_data",
          "data": {
            "image/png": "[encoded data removed]",
            "text/plain": [
              "<PIL.Image.Image image mode=RGB size=32x32 at 0x7F3E868BE1D0>"
            ]
          },
          "metadata": {
            "tags": []
          }
        },
        {
          "output_type": "display_data",
          "data": {
            "image/png": "[encoded data removed]",
            "text/plain": [
              "<PIL.Image.Image image mode=RGB size=32x32 at 0x7F3E868BE1D0>"
            ]
          },
          "metadata": {
            "tags": []
          }
        },
        {
          "output_type": "display_data",
          "data": {
            "image/png": "[encoded data removed]",
            "text/plain": [
              "<PIL.Image.Image image mode=RGB size=32x32 at 0x7F3E868BE208>"
            ]
          },
          "metadata": {
            "tags": []
          }
        },
        {
          "output_type": "display_data",
          "data": {
            "image/png": "[encoded data removed]",
            "text/plain": [
              "<PIL.Image.Image image mode=RGB size=32x32 at 0x7F3E868BE208>"
            ]
          },
          "metadata": {
            "tags": []
          }
        },
        {
          "output_type": "display_data",
          "data": {
            "image/png": "[encoded data removed]",
            "text/plain": [
              "<PIL.Image.Image image mode=RGB size=32x32 at 0x7F3E868BE278>"
            ]
          },
          "metadata": {
            "tags": []
          }
        },
        {
          "output_type": "display_data",
          "data": {
            "image/png": "[encoded data removed]",
            "text/plain": [
              "<PIL.Image.Image image mode=RGB size=32x32 at 0x7F3E868BE278>"
            ]
          },
          "metadata": {
            "tags": []
          }
        }
      ]
    },
    {
      "cell_type": "markdown",
      "metadata": {
        "id": "1VIjB5YKk9w3",
        "colab_type": "text"
      },
      "source": [
        "# 開始對圖片資料處理"
      ]
    },
    {
      "cell_type": "code",
      "metadata": {
        "id": "cTeMhwvvlBmJ",
        "colab_type": "code",
        "colab": {}
      },
      "source": [
        "# 針對所有的x_trian& x_test進行min-max normalization\n",
        "x_train_minmaxnorm=x_train.astype('float')/255\n",
        "x_test_minmaxnorm=x_test.astype('float')/255"
      ],
      "execution_count": 0,
      "outputs": []
    },
    {
      "cell_type": "code",
      "metadata": {
        "id": "hx1bx2Qbm-5_",
        "colab_type": "code",
        "colab": {}
      },
      "source": [
        "# 將標籤轉成one-hot vector\n",
        "# e.g., 6轉成[0,0,0,0,0,1,0,0,0,0]\n",
        "y_train_onehotvector=utils.to_categorical(y_train,10)\n",
        "y_test_onehotvetor=utils.to_categorical(y_test,10)"
      ],
      "execution_count": 0,
      "outputs": []
    },
    {
      "cell_type": "markdown",
      "metadata": {
        "id": "Ll18gGqjnw5C",
        "colab_type": "text"
      },
      "source": [
        "# 開始建構卷積網路架構"
      ]
    },
    {
      "cell_type": "code",
      "metadata": {
        "id": "v0zrMohen4Tu",
        "colab_type": "code",
        "outputId": "307a8427-f7ec-4450-b04e-bcfa4645ef4b",
        "colab": {
          "base_uri": "https://localhost:8080/",
          "height": 607
        }
      },
      "source": [
        "# 建置網路各層\n",
        "from keras.models import Sequential\n",
        "from keras.layers import Convolution2D,MaxPooling2D\n",
        "from keras.layers import Dense,Dropout,Flatten,BatchNormalization\n",
        "\n",
        "cifar_classifier=Sequential()\n",
        "# 輸入為32*32*3\n",
        "# Layer: 卷積層+Max池化層\n",
        "cifar_classifier.add(Convolution2D(filters=256,kernel_size=(3,3),padding='same',activation='relu',input_shape=(32,32,3)))\n",
        "cifar_classifier.add(BatchNormalization())\n",
        "cifar_classifier.add(MaxPooling2D(pool_size=(2,2)))\n",
        "\n",
        "# Layer: 卷積層+Max池化層\n",
        "cifar_classifier.add(Convolution2D(filters=256,kernel_size=(3,3),padding='same',activation='relu'))\n",
        "cifar_classifier.add(BatchNormalization())\n",
        "cifar_classifier.add(MaxPooling2D(pool_size=(2,2)))\n",
        "\n",
        "# Layer: 卷積層+Max池化層\n",
        "cifar_classifier.add(Convolution2D(filters=256,kernel_size=(3,3),padding='same',activation='relu'))\n",
        "cifar_classifier.add(BatchNormalization())\n",
        "\n",
        "# Layer: 展平層\n",
        "cifar_classifier.add(Flatten())\n",
        "cifar_classifier.add(BatchNormalization())\n",
        "\n",
        "# Layer: 密集層1(relu)\n",
        "cifar_classifier.add(Dense(1024,activation='relu'))\n",
        "cifar_classifier.add(BatchNormalization())\n",
        "\n",
        "# Layer: 密集層2(softmax，輸出)\n",
        "cifar_classifier.add(Dense(10,activation='softmax'))\n",
        "\n",
        "cifar_classifier.summary()"
      ],
      "execution_count": 70,
      "outputs": [
        {
          "output_type": "stream",
          "text": [
            "Model: \"sequential_19\"\n",
            "_________________________________________________________________\n",
            "Layer (type)                 Output Shape              Param #   \n",
            "=================================================================\n",
            "conv2d_51 (Conv2D)           (None, 32, 32, 256)       7168      \n",
            "_________________________________________________________________\n",
            "batch_normalization_74 (Batc (None, 32, 32, 256)       1024      \n",
            "_________________________________________________________________\n",
            "max_pooling2d_47 (MaxPooling (None, 16, 16, 256)       0         \n",
            "_________________________________________________________________\n",
            "conv2d_52 (Conv2D)           (None, 16, 16, 256)       590080    \n",
            "_________________________________________________________________\n",
            "batch_normalization_75 (Batc (None, 16, 16, 256)       1024      \n",
            "_________________________________________________________________\n",
            "max_pooling2d_48 (MaxPooling (None, 8, 8, 256)         0         \n",
            "_________________________________________________________________\n",
            "conv2d_53 (Conv2D)           (None, 8, 8, 256)         590080    \n",
            "_________________________________________________________________\n",
            "batch_normalization_76 (Batc (None, 8, 8, 256)         1024      \n",
            "_________________________________________________________________\n",
            "flatten_19 (Flatten)         (None, 16384)             0         \n",
            "_________________________________________________________________\n",
            "batch_normalization_77 (Batc (None, 16384)             65536     \n",
            "_________________________________________________________________\n",
            "dense_37 (Dense)             (None, 1024)              16778240  \n",
            "_________________________________________________________________\n",
            "batch_normalization_78 (Batc (None, 1024)              4096      \n",
            "_________________________________________________________________\n",
            "dense_38 (Dense)             (None, 10)                10250     \n",
            "=================================================================\n",
            "Total params: 18,048,522\n",
            "Trainable params: 18,012,170\n",
            "Non-trainable params: 36,352\n",
            "_________________________________________________________________\n"
          ],
          "name": "stdout"
        }
      ]
    },
    {
      "cell_type": "code",
      "metadata": {
        "id": "jxGBSnBLs6oJ",
        "colab_type": "code",
        "colab": {}
      },
      "source": [
        "# 設定網路訓練配置\n",
        "# 最佳化: adam\n",
        "# 損失函式：categorical_crossentropy\n",
        "# 評量：acc(正確率)\n",
        "cifar_classifier.compile(optimizer='adam',loss='categorical_crossentropy',metrics=['acc'])"
      ],
      "execution_count": 0,
      "outputs": []
    },
    {
      "cell_type": "markdown",
      "metadata": {
        "id": "6P3R2s55uDGR",
        "colab_type": "text"
      },
      "source": [
        "# 進行訓練"
      ]
    },
    {
      "cell_type": "code",
      "metadata": {
        "id": "IgNOz-ZPuFjf",
        "colab_type": "code",
        "outputId": "ba41beaf-fb24-4f1d-fcff-3b9ab8600880",
        "colab": {
          "base_uri": "https://localhost:8080/",
          "height": 1000
        }
      },
      "source": [
        "# 進行訓練\n",
        "history=cifar_classifier.fit(x=x_train_minmaxnorm,y=y_train_onehotvector,batch_size=256,epochs=40,validation_split=0.1)"
      ],
      "execution_count": 72,
      "outputs": [
        {
          "output_type": "stream",
          "text": [
            "Train on 45000 samples, validate on 5000 samples\n",
            "Epoch 1/40\n",
            "45000/45000 [==============================] - 33s 731us/step - loss: 1.3602 - acc: 0.5573 - val_loss: 4.9578 - val_acc: 0.1298\n",
            "Epoch 2/40\n",
            "45000/45000 [==============================] - 29s 655us/step - loss: 0.8029 - acc: 0.7216 - val_loss: 6.0098 - val_acc: 0.2026\n",
            "Epoch 3/40\n",
            "45000/45000 [==============================] - 29s 653us/step - loss: 0.5829 - acc: 0.7974 - val_loss: 2.0129 - val_acc: 0.4714\n",
            "Epoch 4/40\n",
            "45000/45000 [==============================] - 29s 655us/step - loss: 0.3844 - acc: 0.8665 - val_loss: 1.0031 - val_acc: 0.6824\n",
            "Epoch 5/40\n",
            "45000/45000 [==============================] - 29s 654us/step - loss: 0.2272 - acc: 0.9217 - val_loss: 1.0393 - val_acc: 0.6970\n",
            "Epoch 6/40\n",
            "45000/45000 [==============================] - 29s 653us/step - loss: 0.1367 - acc: 0.9544 - val_loss: 0.9644 - val_acc: 0.7350\n",
            "Epoch 7/40\n",
            "45000/45000 [==============================] - 29s 655us/step - loss: 0.0908 - acc: 0.9700 - val_loss: 1.0439 - val_acc: 0.7432\n",
            "Epoch 8/40\n",
            "45000/45000 [==============================] - 29s 654us/step - loss: 0.0510 - acc: 0.9848 - val_loss: 1.0341 - val_acc: 0.7452\n",
            "Epoch 9/40\n",
            "45000/45000 [==============================] - 29s 654us/step - loss: 0.0278 - acc: 0.9929 - val_loss: 0.9657 - val_acc: 0.7710\n",
            "Epoch 10/40\n",
            "45000/45000 [==============================] - 29s 653us/step - loss: 0.0142 - acc: 0.9969 - val_loss: 1.0274 - val_acc: 0.7748\n",
            "Epoch 11/40\n",
            "45000/45000 [==============================] - 29s 654us/step - loss: 0.0106 - acc: 0.9976 - val_loss: 1.1810 - val_acc: 0.7494\n",
            "Epoch 12/40\n",
            "45000/45000 [==============================] - 29s 654us/step - loss: 0.0178 - acc: 0.9950 - val_loss: 2.3108 - val_acc: 0.6270\n",
            "Epoch 13/40\n",
            "45000/45000 [==============================] - 29s 654us/step - loss: 0.0955 - acc: 0.9680 - val_loss: 1.8878 - val_acc: 0.6048\n",
            "Epoch 14/40\n",
            "45000/45000 [==============================] - 29s 655us/step - loss: 0.1313 - acc: 0.9546 - val_loss: 1.4916 - val_acc: 0.6908\n",
            "Epoch 15/40\n",
            "45000/45000 [==============================] - 29s 655us/step - loss: 0.0476 - acc: 0.9849 - val_loss: 1.0740 - val_acc: 0.7632\n",
            "Epoch 16/40\n",
            "45000/45000 [==============================] - 29s 654us/step - loss: 0.0127 - acc: 0.9968 - val_loss: 0.9906 - val_acc: 0.7900\n",
            "Epoch 17/40\n",
            "45000/45000 [==============================] - 30s 656us/step - loss: 0.0033 - acc: 0.9996 - val_loss: 1.0165 - val_acc: 0.7926\n",
            "Epoch 18/40\n",
            "45000/45000 [==============================] - 30s 657us/step - loss: 0.0011 - acc: 1.0000 - val_loss: 0.9576 - val_acc: 0.8052\n",
            "Epoch 19/40\n",
            "45000/45000 [==============================] - 30s 656us/step - loss: 5.6288e-04 - acc: 1.0000 - val_loss: 0.9499 - val_acc: 0.8050\n",
            "Epoch 20/40\n",
            "45000/45000 [==============================] - 30s 657us/step - loss: 4.0445e-04 - acc: 1.0000 - val_loss: 0.9750 - val_acc: 0.8072\n",
            "Epoch 21/40\n",
            "45000/45000 [==============================] - 30s 656us/step - loss: 3.0338e-04 - acc: 1.0000 - val_loss: 0.9710 - val_acc: 0.8078\n",
            "Epoch 22/40\n",
            "45000/45000 [==============================] - 29s 654us/step - loss: 2.4747e-04 - acc: 1.0000 - val_loss: 0.9798 - val_acc: 0.8086\n",
            "Epoch 23/40\n",
            "45000/45000 [==============================] - 29s 655us/step - loss: 2.0586e-04 - acc: 1.0000 - val_loss: 0.9846 - val_acc: 0.8090\n",
            "Epoch 24/40\n",
            "45000/45000 [==============================] - 29s 653us/step - loss: 1.8031e-04 - acc: 1.0000 - val_loss: 0.9962 - val_acc: 0.8086\n",
            "Epoch 25/40\n",
            "45000/45000 [==============================] - 29s 653us/step - loss: 1.5564e-04 - acc: 1.0000 - val_loss: 0.9922 - val_acc: 0.8096\n",
            "Epoch 26/40\n",
            "45000/45000 [==============================] - 29s 653us/step - loss: 1.2982e-04 - acc: 1.0000 - val_loss: 0.9998 - val_acc: 0.8096\n",
            "Epoch 27/40\n",
            "45000/45000 [==============================] - 29s 652us/step - loss: 1.1507e-04 - acc: 1.0000 - val_loss: 1.0143 - val_acc: 0.8092\n",
            "Epoch 28/40\n",
            "45000/45000 [==============================] - 29s 653us/step - loss: 1.0461e-04 - acc: 1.0000 - val_loss: 1.0169 - val_acc: 0.8088\n",
            "Epoch 29/40\n",
            "45000/45000 [==============================] - 29s 654us/step - loss: 9.0815e-05 - acc: 1.0000 - val_loss: 1.0129 - val_acc: 0.8082\n",
            "Epoch 30/40\n",
            "45000/45000 [==============================] - 30s 656us/step - loss: 8.4860e-05 - acc: 1.0000 - val_loss: 1.0298 - val_acc: 0.8094\n",
            "Epoch 31/40\n",
            "45000/45000 [==============================] - 30s 656us/step - loss: 7.0892e-05 - acc: 1.0000 - val_loss: 1.0302 - val_acc: 0.8088\n",
            "Epoch 32/40\n",
            "45000/45000 [==============================] - 29s 654us/step - loss: 6.6642e-05 - acc: 1.0000 - val_loss: 1.0382 - val_acc: 0.8104\n",
            "Epoch 33/40\n",
            "45000/45000 [==============================] - 29s 654us/step - loss: 6.2660e-05 - acc: 1.0000 - val_loss: 1.0616 - val_acc: 0.8090\n",
            "Epoch 34/40\n",
            "45000/45000 [==============================] - 30s 657us/step - loss: 5.9812e-05 - acc: 1.0000 - val_loss: 1.0455 - val_acc: 0.8096\n",
            "Epoch 35/40\n",
            "45000/45000 [==============================] - 29s 655us/step - loss: 5.2380e-05 - acc: 1.0000 - val_loss: 1.0463 - val_acc: 0.8114\n",
            "Epoch 36/40\n",
            "45000/45000 [==============================] - 29s 655us/step - loss: 4.3073e-05 - acc: 1.0000 - val_loss: 1.0440 - val_acc: 0.8084\n",
            "Epoch 37/40\n",
            "45000/45000 [==============================] - 29s 654us/step - loss: 4.2878e-05 - acc: 1.0000 - val_loss: 1.0625 - val_acc: 0.8106\n",
            "Epoch 38/40\n",
            "45000/45000 [==============================] - 29s 653us/step - loss: 3.7117e-05 - acc: 1.0000 - val_loss: 1.0572 - val_acc: 0.8098\n",
            "Epoch 39/40\n",
            "45000/45000 [==============================] - 29s 653us/step - loss: 3.5708e-05 - acc: 1.0000 - val_loss: 1.0819 - val_acc: 0.8118\n",
            "Epoch 40/40\n",
            "45000/45000 [==============================] - 29s 654us/step - loss: 3.1303e-05 - acc: 1.0000 - val_loss: 1.0782 - val_acc: 0.8110\n"
          ],
          "name": "stdout"
        }
      ]
    },
    {
      "cell_type": "code",
      "metadata": {
        "id": "Qz_pGoEjU_oy",
        "colab_type": "code",
        "colab": {
          "base_uri": "https://localhost:8080/",
          "height": 573
        },
        "outputId": "445432ef-3d12-48bb-be64-bd64e33f751a"
      },
      "source": [
        "# 繪製訓練得出的loss & accuracy\n",
        "import matplotlib.pyplot as plot\n",
        "\n",
        "plot.plot(history.history['acc'])\n",
        "plot.plot(history.history['val_acc'])\n",
        "plot.title('model accuracy')\n",
        "plot.ylabel('accuracy')\n",
        "plot.xlabel('epochs')\n",
        "plot.legend(['Train', 'Test'], loc='upper left')\n",
        "plot.show()\n",
        "\n",
        "plot.plot(history.history['loss'])\n",
        "plot.plot(history.history['val_loss'])\n",
        "plot.title('model loss')\n",
        "plot.ylabel('loss')\n",
        "plot.xlabel('epochs')\n",
        "plot.legend(['Train', 'Test'], loc='upper left')\n",
        "plot.show()"
      ],
      "execution_count": 73,
      "outputs": [
        {
          "output_type": "display_data",
          "data": {
            "image/png": "[encoded data removed]",
            "text/plain": [
              "<Figure size 432x288 with 1 Axes>"
            ]
          },
          "metadata": {
            "tags": [],
            "needs_background": "light"
          }
        },
        {
          "output_type": "display_data",
          "data": {
            "image/png": "[encoded data removed]",
            "text/plain": [
              "<Figure size 432x288 with 1 Axes>"
            ]
          },
          "metadata": {
            "tags": [],
            "needs_background": "light"
          }
        }
      ]
    },
    {
      "cell_type": "code",
      "metadata": {
        "id": "nxkQ6CW-6Ju8",
        "colab_type": "code",
        "colab": {}
      },
      "source": [
        "# 儲存模型\n",
        "cifar_classifier.save('cifar10_iter40_valacc_81.h5')"
      ],
      "execution_count": 0,
      "outputs": []
    }
  ]
}