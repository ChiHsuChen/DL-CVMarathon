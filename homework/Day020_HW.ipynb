{
  "nbformat": 4,
  "nbformat_minor": 0,
  "metadata": {
    "colab": {
      "name": "Day020_HW.ipynb",
      "provenance": [],
      "collapsed_sections": []
    },
    "kernelspec": {
      "name": "python3",
      "display_name": "Python 3"
    }
  },
  "cells": [
    {
      "cell_type": "markdown",
      "metadata": {
        "id": "LmyrYtAEdLwn",
        "colab_type": "text"
      },
      "source": [
        "Google Colab上執行  \n",
        "SourceCode@Google Colab: https://colab.research.google.com/drive/1Bdcayn8bYNz2Zl6jRhFwT7xIjB0Why2t  \n",
        "參考:https://github.com/keras-team/keras-applications/tree/master/keras_applications"
      ]
    },
    {
      "cell_type": "code",
      "metadata": {
        "id": "2YEFNs3Gz8JQ",
        "colab_type": "code",
        "colab": {
          "base_uri": "https://localhost:8080/",
          "height": 35
        },
        "outputId": "4071c149-abfb-4f5c-b1ba-63a2bdf25c96"
      },
      "source": [
        "# _*_ coding: utf-8 _*_\n",
        "# _*_ coding: cp950 _*_\n",
        "\n",
        "# author: Chi-Hsu Chen (css920@gmail.com)\n",
        "\n",
        "import numpy as np\n",
        "import cv2\n",
        "import time\n",
        "from google.colab.patches import cv2_imshow\n",
        "\n",
        "from keras import utils\n",
        "from keras.preprocessing.image import ImageDataGenerator\n",
        "\n",
        "from keras.models import Model,Sequential\n",
        "from keras.layers import Dense,Conv2D,Flatten,MaxPooling2D\n",
        "from keras.layers import Input,GlobalAveragePooling2D,GlobalMaxPooling2D\n",
        "from keras.layers import BatchNormalization,Activation\n",
        "from keras import layers\n",
        "from keras import backend as K\n",
        "from keras.layers import Lambda"
      ],
      "execution_count": 1,
      "outputs": [
        {
          "output_type": "stream",
          "text": [
            "Using TensorFlow backend.\n"
          ],
          "name": "stderr"
        }
      ]
    },
    {
      "cell_type": "markdown",
      "metadata": {
        "id": "IXHi9OOLkeZJ",
        "colab_type": "text"
      },
      "source": [
        "# ResNet\n",
        "ResNet  \n",
        "![alt text](https://github.com/ChiHsuChen/DL-CVMarathon/blob/master/homework/Day020_HW%20ResNet_Structure.png?raw=true)"
      ]
    },
    {
      "cell_type": "code",
      "metadata": {
        "id": "Bcuicou6lB_T",
        "colab_type": "code",
        "colab": {}
      },
      "source": [
        "# 建構ResNet V1 block\n",
        "def Residual_block(input_tensor,kernel_size,filters,stage,block):\n",
        "  filters1,filters2,filters3=filters\n",
        "  conv_name='res'+str(stage)+block+'_branch'\n",
        "  bn_name='res'+str(stage)+block+'_branch'\n",
        "\n",
        "  x=Conv2D(filters=filters1,kernel_size=(1,1),name=conv_name+'_2a')(inut_tensor)\n",
        "  x=BatchNormalization(axis=3,name=bn_name+'_2a')(x)\n",
        "  x=Activation(activation='relu')(x)\n",
        "\n",
        "  x=Conv2D(filters=filters2,kernel_size=(1,1),padding='same',name=conv_name+'_2b')(x)\n",
        "  x=BatchNormalization(axis=3,name=bn_name+'_2b')\n",
        "\n",
        "  x=layers.add([x,input_tensor])\n",
        "  x=Activation(activation='relu')(x)\n",
        "\n",
        "  return x\n"
      ],
      "execution_count": 4,
      "outputs": []
    },
    {
      "cell_type": "code",
      "metadata": {
        "id": "yscWhuKDXu6Z",
        "colab_type": "code",
        "colab": {
          "base_uri": "https://localhost:8080/",
          "height": 131
        },
        "outputId": "dd1663dc-5056-4265-ec25-9d5c5534580e"
      },
      "source": [
        "# 搭建Inception-ResNet中的 Inception Block A-C\n",
        "def inception_residual_block(x,scale,block_type,activation='relu'):\n",
        "  if block_type=='inception_block_a':\n",
        "\n",
        "  elif block_type=='incpetion_block_b':\n",
        "\n",
        "  elif block_type=='inception_block_c':\n"
      ],
      "execution_count": 5,
      "outputs": [
        {
          "output_type": "error",
          "ename": "IndentationError",
          "evalue": "ignored",
          "traceback": [
            "\u001b[0;36m  File \u001b[0;32m\"<ipython-input-5-9a0415a3a3bb>\"\u001b[0;36m, line \u001b[0;32m5\u001b[0m\n\u001b[0;31m    elif block_type=='incpetion_block_b':\u001b[0m\n\u001b[0m       ^\u001b[0m\n\u001b[0;31mIndentationError\u001b[0m\u001b[0;31m:\u001b[0m expected an indented block\n"
          ]
        }
      ]
    }
  ]
}