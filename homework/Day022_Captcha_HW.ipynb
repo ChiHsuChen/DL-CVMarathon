{
  "nbformat": 4,
  "nbformat_minor": 0,
  "metadata": {
    "colab": {
      "name": "Day022_Captcha_HW.ipynb",
      "provenance": [],
      "collapsed_sections": []
    },
    "kernelspec": {
      "name": "python3",
      "display_name": "Python 3"
    },
    "accelerator": "GPU"
  },
  "cells": [
    {
      "cell_type": "markdown",
      "metadata": {
        "id": "oooiofwjwi4K",
        "colab_type": "text"
      },
      "source": [
        "Google Colab上執行\n",
        "SourceCode@Google Colab: https://colab.research.google.com/drive/1WHnj9rH6d2b_snSY31vNifJdmRAeGGzH  \n",
        "參考:https://github.com/keras-team/keras-applications/tree/master/keras_applications"
      ]
    },
    {
      "cell_type": "code",
      "metadata": {
        "id": "ztIfZL92we_F",
        "colab_type": "code",
        "colab": {}
      },
      "source": [
        "# _*_ coding: utf-8 _*_\n",
        "# _*_ coding: cp950 _*_\n",
        "\n",
        "# author: Chi-Hsu Chen (css920@gmail.com)\n",
        "\n",
        "import numpy as np\n",
        "import cv2\n",
        "import time\n",
        "from google.colab.patches import cv2_imshow\n",
        "\n",
        "from keras import utils\n",
        "from keras.preprocessing.image import ImageDataGenerator\n",
        "\n",
        "from keras.models import Model,Sequential,Input\n",
        "from keras.layers import Dense,Conv2D,Flatten,MaxPooling2D,Convolution2D\n",
        "from keras.layers import Input,GlobalAveragePooling2D,GlobalMaxPooling2D\n",
        "from keras.layers import BatchNormalization,Activation,Dropout,Reshape\n",
        "from keras import layers\n",
        "from keras import backend as K\n",
        "from keras.layers import Lambda\n",
        "from keras.layers import Concatenate\n",
        "\n",
        "from keras.datasets import cifar10\n",
        "from sklearn.preprocessing import OneHotEncoder\n",
        "\n",
        "import keras"
      ],
      "execution_count": 10,
      "outputs": []
    },
    {
      "cell_type": "markdown",
      "metadata": {
        "id": "6LVkMxdgw3JK",
        "colab_type": "text"
      },
      "source": [
        "# pip install captcha"
      ]
    },
    {
      "cell_type": "code",
      "metadata": {
        "id": "F8trSUqJw4eW",
        "colab_type": "code",
        "colab": {
          "base_uri": "https://localhost:8080/",
          "height": 141
        },
        "outputId": "bdf67567-125e-4750-8bb1-cebce0ff51ad"
      },
      "source": [
        "pip install captcha"
      ],
      "execution_count": 1,
      "outputs": [
        {
          "output_type": "stream",
          "text": [
            "Collecting captcha\n",
            "\u001b[?25l  Downloading https://files.pythonhosted.org/packages/90/fe/d4ddf1e6576073b5eaea76e9b2afa022c626212a30c871968480be3ccb7b/captcha-0.3-py3-none-any.whl (101kB)\n",
            "\r\u001b[K     |███▎                            | 10kB 21.9MB/s eta 0:00:01\r\u001b[K     |██████▌                         | 20kB 2.1MB/s eta 0:00:01\r\u001b[K     |█████████▊                      | 30kB 2.8MB/s eta 0:00:01\r\u001b[K     |█████████████                   | 40kB 3.1MB/s eta 0:00:01\r\u001b[K     |████████████████▏               | 51kB 2.5MB/s eta 0:00:01\r\u001b[K     |███████████████████▍            | 61kB 2.8MB/s eta 0:00:01\r\u001b[K     |██████████████████████▋         | 71kB 3.1MB/s eta 0:00:01\r\u001b[K     |█████████████████████████▉      | 81kB 3.3MB/s eta 0:00:01\r\u001b[K     |█████████████████████████████   | 92kB 3.6MB/s eta 0:00:01\r\u001b[K     |████████████████████████████████| 102kB 2.8MB/s \n",
            "\u001b[?25hRequirement already satisfied: Pillow in /usr/local/lib/python3.6/dist-packages (from captcha) (7.0.0)\n",
            "Installing collected packages: captcha\n",
            "Successfully installed captcha-0.3\n"
          ],
          "name": "stdout"
        }
      ]
    },
    {
      "cell_type": "markdown",
      "metadata": {
        "id": "auibXPPww8wv",
        "colab_type": "text"
      },
      "source": [
        "# 產生驗證碼"
      ]
    },
    {
      "cell_type": "code",
      "metadata": {
        "id": "fsAnkfsHw90d",
        "colab_type": "code",
        "colab": {
          "base_uri": "https://localhost:8080/",
          "height": 255
        },
        "outputId": "14fb1936-e579-4a97-8167-551d7aec214c"
      },
      "source": [
        "from captcha.image import ImageCaptcha\n",
        "import matplotlib.pyplot as plt\n",
        "import numpy as np\n",
        "import random\n",
        "\n",
        "%matplotlib inline\n",
        "%config InlineBackend.figure_format = 'retina'\n",
        "\n",
        "import string\n",
        "##驗證碼包含0-10數字以及26個英文字母\n",
        "characters = string.digits + string.ascii_uppercase\n",
        "print(characters)\n",
        "\n",
        "##設定產生圖片尺寸，以及總類別，n_class之所以要加一是為了留一個位置給Blank\n",
        "width, height, n_len, n_class = 170, 80, 4, len(characters)+1\n",
        "\n",
        "##設定產生驗證碼的generator\n",
        "generator = ImageCaptcha(width=width, height=height)\n",
        "\n",
        "##我們先練習固定長度4個字的驗證碼\n",
        "random_str = ''.join([random.choice(characters) for j in range(4)])\n",
        "img = generator.generate_image(random_str)\n",
        "\n",
        "plt.imshow(img)\n",
        "plt.title(random_str)"
      ],
      "execution_count": 2,
      "outputs": [
        {
          "output_type": "stream",
          "text": [
            "0123456789ABCDEFGHIJKLMNOPQRSTUVWXYZ\n"
          ],
          "name": "stdout"
        },
        {
          "output_type": "execute_result",
          "data": {
            "text/plain": [
              "Text(0.5, 1.0, 'VDRM')"
            ]
          },
          "metadata": {
            "tags": []
          },
          "execution_count": 2
        },
        {
          "output_type": "display_data",
          "data": {
            "image/png": "[encoded data removed]",
            "text/plain": [
              "<Figure size 432x288 with 1 Axes>"
            ]
          },
          "metadata": {
            "tags": [],
            "image/png": {
              "width": 369,
              "height": 203
            },
            "needs_background": "light"
          }
        }
      ]
    },
    {
      "cell_type": "markdown",
      "metadata": {
        "id": "_gCFQk8jyMr_",
        "colab_type": "text"
      },
      "source": [
        "# 建構CNN網路"
      ]
    },
    {
      "cell_type": "code",
      "metadata": {
        "id": "3931cpp9zBvy",
        "colab_type": "code",
        "colab": {}
      },
      "source": [
        "##CTC Loss需要四個資訊，分別是\n",
        "## Label\n",
        "## 預測\n",
        "## CNN OUTPUT寬度\n",
        "## 預測影像所包含文字長度\n",
        "def ctc_lambda_func(args):\n",
        "    y_pred, labels, input_length, label_length = args\n",
        "    return K.ctc_batch_cost(labels, y_pred, input_length, label_length)"
      ],
      "execution_count": 12,
      "outputs": []
    },
    {
      "cell_type": "code",
      "metadata": {
        "id": "80dgHcJEyQKM",
        "colab_type": "code",
        "colab": {
          "base_uri": "https://localhost:8080/",
          "height": 141
        },
        "outputId": "db0cab63-dc16-4a20-ddd7-508f5115c2d4"
      },
      "source": [
        "rnn_size = 128\n",
        "\n",
        "input_tensor = Input((height,width, 3))\n",
        "x = input_tensor\n",
        "for i in range(4):\n",
        "    x = Convolution2D(32, 3, 3, activation='relu')(x)\n",
        "    x = keras.layers.BatchNormalization(axis=-1)(x)\n",
        "    x = Convolution2D(32, 3, 3, activation='relu')(x)\n",
        "    x = keras.layers.BatchNormalization(axis=-1)(x)\n",
        "    if i <3:\n",
        "        x = MaxPooling2D(pool_size=(2, 2))(x)\n",
        "    else:\n",
        "        x = MaxPooling2D(pool_size=(2, 1))(x)\n",
        "\n",
        "##記錄輸出CNN尺寸，loss部分需要這個資訊\n",
        "##conv_shape=(Batch_size,輸出高度,輸出寬度,輸出深度)\n",
        "conv_shape = x.get_shape()\n",
        "\n",
        "##從(Batch_size,輸出高度,輸出寬度,輸出深度)變成(Batch_size,輸出寬度,輸出深度*輸出高度)\n",
        "x = Reshape(target_shape=(int(conv_shape[2]), int(conv_shape[1]*conv_shape[3])))(x)\n",
        "\n",
        "x = Dense(32, activation='relu')(x)\n",
        "\n",
        "x = Dropout(0.25)(x)\n",
        "x = Dense(n_class, activation='softmax')(x)\n",
        "\n",
        "\n",
        "##包裝用來預測的model\n",
        "base_model = Model(input=input_tensor, output=x)\n",
        "\n",
        "\n",
        "##設定要給CTC Loss的資訊\n",
        "labels = Input(name='the_labels', shape=[n_len], dtype='float32')\n",
        "input_length = Input(name='input_length', shape=[1], dtype='int64')\n",
        "label_length = Input(name='label_length', shape=[1], dtype='int64')\n",
        "loss_out = Lambda(ctc_lambda_func, output_shape=(1,), \n",
        "                  name='ctc')([x, labels, input_length, label_length])\n",
        "\n",
        "##這裡的model是用來計算loss\n",
        "model = Model(input=[input_tensor, labels, input_length, label_length], output=[loss_out])\n",
        "\n",
        "##之所以要lambda y_true, y_pred: y_pred是因為我們的loss已經包在網路裡，會output:y_true, y_pred，而我們只需要y_pred\n",
        "model.compile(loss={'ctc': lambda y_true, y_pred: y_pred}, optimizer='SGD')\n"
      ],
      "execution_count": 13,
      "outputs": [
        {
          "output_type": "stream",
          "text": [
            "/usr/local/lib/python3.6/dist-packages/ipykernel_launcher.py:6: UserWarning: Update your `Conv2D` call to the Keras 2 API: `Conv2D(32, (3, 3), activation=\"relu\")`\n",
            "  \n",
            "/usr/local/lib/python3.6/dist-packages/ipykernel_launcher.py:8: UserWarning: Update your `Conv2D` call to the Keras 2 API: `Conv2D(32, (3, 3), activation=\"relu\")`\n",
            "  \n",
            "/usr/local/lib/python3.6/dist-packages/ipykernel_launcher.py:29: UserWarning: Update your `Model` call to the Keras 2 API: `Model(inputs=Tensor(\"in..., outputs=Tensor(\"de...)`\n",
            "/usr/local/lib/python3.6/dist-packages/ipykernel_launcher.py:40: UserWarning: Update your `Model` call to the Keras 2 API: `Model(inputs=[<tf.Tenso..., outputs=[<tf.Tenso...)`\n"
          ],
          "name": "stderr"
        }
      ]
    },
    {
      "cell_type": "code",
      "metadata": {
        "id": "tqHJ2E9QzG8D",
        "colab_type": "code",
        "colab": {
          "base_uri": "https://localhost:8080/",
          "height": 1000
        },
        "outputId": "96241dab-75d9-415b-e790-e568e92fe53a"
      },
      "source": [
        "model.summary()"
      ],
      "execution_count": 14,
      "outputs": [
        {
          "output_type": "stream",
          "text": [
            "Model: \"model_3\"\n",
            "__________________________________________________________________________________________________\n",
            "Layer (type)                    Output Shape         Param #     Connected to                     \n",
            "==================================================================================================\n",
            "input_4 (InputLayer)            (None, 80, 170, 3)   0                                            \n",
            "__________________________________________________________________________________________________\n",
            "conv2d_17 (Conv2D)              (None, 78, 168, 32)  896         input_4[0][0]                    \n",
            "__________________________________________________________________________________________________\n",
            "batch_normalization_17 (BatchNo (None, 78, 168, 32)  128         conv2d_17[0][0]                  \n",
            "__________________________________________________________________________________________________\n",
            "conv2d_18 (Conv2D)              (None, 76, 166, 32)  9248        batch_normalization_17[0][0]     \n",
            "__________________________________________________________________________________________________\n",
            "batch_normalization_18 (BatchNo (None, 76, 166, 32)  128         conv2d_18[0][0]                  \n",
            "__________________________________________________________________________________________________\n",
            "max_pooling2d_9 (MaxPooling2D)  (None, 38, 83, 32)   0           batch_normalization_18[0][0]     \n",
            "__________________________________________________________________________________________________\n",
            "conv2d_19 (Conv2D)              (None, 36, 81, 32)   9248        max_pooling2d_9[0][0]            \n",
            "__________________________________________________________________________________________________\n",
            "batch_normalization_19 (BatchNo (None, 36, 81, 32)   128         conv2d_19[0][0]                  \n",
            "__________________________________________________________________________________________________\n",
            "conv2d_20 (Conv2D)              (None, 34, 79, 32)   9248        batch_normalization_19[0][0]     \n",
            "__________________________________________________________________________________________________\n",
            "batch_normalization_20 (BatchNo (None, 34, 79, 32)   128         conv2d_20[0][0]                  \n",
            "__________________________________________________________________________________________________\n",
            "max_pooling2d_10 (MaxPooling2D) (None, 17, 39, 32)   0           batch_normalization_20[0][0]     \n",
            "__________________________________________________________________________________________________\n",
            "conv2d_21 (Conv2D)              (None, 15, 37, 32)   9248        max_pooling2d_10[0][0]           \n",
            "__________________________________________________________________________________________________\n",
            "batch_normalization_21 (BatchNo (None, 15, 37, 32)   128         conv2d_21[0][0]                  \n",
            "__________________________________________________________________________________________________\n",
            "conv2d_22 (Conv2D)              (None, 13, 35, 32)   9248        batch_normalization_21[0][0]     \n",
            "__________________________________________________________________________________________________\n",
            "batch_normalization_22 (BatchNo (None, 13, 35, 32)   128         conv2d_22[0][0]                  \n",
            "__________________________________________________________________________________________________\n",
            "max_pooling2d_11 (MaxPooling2D) (None, 6, 17, 32)    0           batch_normalization_22[0][0]     \n",
            "__________________________________________________________________________________________________\n",
            "conv2d_23 (Conv2D)              (None, 4, 15, 32)    9248        max_pooling2d_11[0][0]           \n",
            "__________________________________________________________________________________________________\n",
            "batch_normalization_23 (BatchNo (None, 4, 15, 32)    128         conv2d_23[0][0]                  \n",
            "__________________________________________________________________________________________________\n",
            "conv2d_24 (Conv2D)              (None, 2, 13, 32)    9248        batch_normalization_23[0][0]     \n",
            "__________________________________________________________________________________________________\n",
            "batch_normalization_24 (BatchNo (None, 2, 13, 32)    128         conv2d_24[0][0]                  \n",
            "__________________________________________________________________________________________________\n",
            "max_pooling2d_12 (MaxPooling2D) (None, 1, 13, 32)    0           batch_normalization_24[0][0]     \n",
            "__________________________________________________________________________________________________\n",
            "reshape_2 (Reshape)             (None, 13, 32)       0           max_pooling2d_12[0][0]           \n",
            "__________________________________________________________________________________________________\n",
            "dense_3 (Dense)                 (None, 13, 32)       1056        reshape_2[0][0]                  \n",
            "__________________________________________________________________________________________________\n",
            "dropout_2 (Dropout)             (None, 13, 32)       0           dense_3[0][0]                    \n",
            "__________________________________________________________________________________________________\n",
            "dense_4 (Dense)                 (None, 13, 37)       1221        dropout_2[0][0]                  \n",
            "__________________________________________________________________________________________________\n",
            "the_labels (InputLayer)         (None, 4)            0                                            \n",
            "__________________________________________________________________________________________________\n",
            "input_length (InputLayer)       (None, 1)            0                                            \n",
            "__________________________________________________________________________________________________\n",
            "label_length (InputLayer)       (None, 1)            0                                            \n",
            "__________________________________________________________________________________________________\n",
            "ctc (Lambda)                    (None, 1)            0           dense_4[0][0]                    \n",
            "                                                                 the_labels[0][0]                 \n",
            "                                                                 input_length[0][0]               \n",
            "                                                                 label_length[0][0]               \n",
            "==================================================================================================\n",
            "Total params: 68,933\n",
            "Trainable params: 68,421\n",
            "Non-trainable params: 512\n",
            "__________________________________________________________________________________________________\n"
          ],
          "name": "stdout"
        }
      ]
    },
    {
      "cell_type": "code",
      "metadata": {
        "id": "orK3mzF3zOM9",
        "colab_type": "code",
        "colab": {}
      },
      "source": [
        "##設計generator產生training data\n",
        "## 產生包含要給loss的資訊\n",
        "## X=輸入影像\n",
        "## np.ones(batch_size)*int(conv_shape[2])=CNN輸出feature Map寬度\n",
        "## np.ones(batch_size)*n_len=字串長度(可浮動)\n",
        "\n",
        "def gen(batch_size=128):\n",
        "    X = np.zeros((batch_size,height, width, 3), dtype=np.uint8)\n",
        "    y = np.zeros((batch_size, n_len), dtype=np.uint8)\n",
        "    while True:\n",
        "        generator = ImageCaptcha(width=width, height=height)\n",
        "        for i in range(batch_size):\n",
        "            random_str = ''.join([random.choice(characters) for j in range(4)])\n",
        "            X[i] = np.array(generator.generate_image(random_str))\n",
        "            y[i] = [characters.find(x) for x in random_str]\n",
        "        yield [X, y,np.ones(batch_size)*int(conv_shape[2]), np.ones(batch_size)*n_len], np.ones(batch_size)"
      ],
      "execution_count": 15,
      "outputs": []
    },
    {
      "cell_type": "code",
      "metadata": {
        "id": "Xv-cAhzbzSSq",
        "colab_type": "code",
        "colab": {
          "base_uri": "https://localhost:8080/",
          "height": 260
        },
        "outputId": "b4df0d42-e74a-4bee-c61b-6edb565a7a47"
      },
      "source": [
        "next_ge=gen(batch_size=1)\n",
        "test_ge=next(next_ge)\n",
        "plt.imshow(test_ge[0][0][0])\n",
        "print('Label: ',test_ge[0][1])\n",
        "print('CNN輸出寬度: ',test_ge[0][2])\n",
        "print('字串長度(可浮動): ',test_ge[0][3])"
      ],
      "execution_count": 16,
      "outputs": [
        {
          "output_type": "stream",
          "text": [
            "Label:  [[ 5 14 30  0]]\n",
            "CNN輸出寬度:  [13.]\n",
            "字串長度(可浮動):  [4.]\n"
          ],
          "name": "stdout"
        },
        {
          "output_type": "display_data",
          "data": {
            "image/png": "[encoded data removed]",
            "text/plain": [
              "<Figure size 432x288 with 1 Axes>"
            ]
          },
          "metadata": {
            "tags": [],
            "image/png": {
              "width": 369,
              "height": 191
            },
            "needs_background": "light"
          }
        }
      ]
    },
    {
      "cell_type": "markdown",
      "metadata": {
        "id": "YHxMGPHizWzP",
        "colab_type": "text"
      },
      "source": [
        "# 開始訓練"
      ]
    },
    {
      "cell_type": "code",
      "metadata": {
        "id": "QZ8zZm76zYp4",
        "colab_type": "code",
        "colab": {
          "base_uri": "https://localhost:8080/",
          "height": 1000
        },
        "outputId": "734d25e1-3743-4806-fe8d-1044d6529a13"
      },
      "source": [
        "model.fit_generator(gen(32), steps_per_epoch=300, epochs=60)"
      ],
      "execution_count": 17,
      "outputs": [
        {
          "output_type": "stream",
          "text": [
            "Epoch 1/60\n",
            "300/300 [==============================] - 71s 236ms/step - loss: 15.5240\n",
            "Epoch 2/60\n",
            "300/300 [==============================] - 64s 212ms/step - loss: 11.2851\n",
            "Epoch 3/60\n",
            "300/300 [==============================] - 63s 211ms/step - loss: 7.9496\n",
            "Epoch 4/60\n",
            "300/300 [==============================] - 64s 214ms/step - loss: 6.1260\n",
            "Epoch 5/60\n",
            "300/300 [==============================] - 63s 212ms/step - loss: 5.0040\n",
            "Epoch 6/60\n",
            "300/300 [==============================] - 64s 212ms/step - loss: 4.3504\n",
            "Epoch 7/60\n",
            "300/300 [==============================] - 64s 212ms/step - loss: 4.0451\n",
            "Epoch 8/60\n",
            "300/300 [==============================] - 64s 213ms/step - loss: 3.7422\n",
            "Epoch 9/60\n",
            "300/300 [==============================] - 64s 214ms/step - loss: 3.4909\n",
            "Epoch 10/60\n",
            "300/300 [==============================] - 64s 212ms/step - loss: 3.3002\n",
            "Epoch 11/60\n",
            "300/300 [==============================] - 63s 212ms/step - loss: 3.2335\n",
            "Epoch 12/60\n",
            "300/300 [==============================] - 63s 211ms/step - loss: 3.1257\n",
            "Epoch 13/60\n",
            "300/300 [==============================] - 64s 213ms/step - loss: 2.9758\n",
            "Epoch 14/60\n",
            "300/300 [==============================] - 64s 212ms/step - loss: 2.8950\n",
            "Epoch 15/60\n",
            "300/300 [==============================] - 63s 211ms/step - loss: 2.8544\n",
            "Epoch 16/60\n",
            "300/300 [==============================] - 63s 212ms/step - loss: 2.7963\n",
            "Epoch 17/60\n",
            "300/300 [==============================] - 64s 215ms/step - loss: 2.7035\n",
            "Epoch 18/60\n",
            "300/300 [==============================] - 63s 209ms/step - loss: 2.6336\n",
            "Epoch 19/60\n",
            "300/300 [==============================] - 63s 209ms/step - loss: 2.5837\n",
            "Epoch 20/60\n",
            "300/300 [==============================] - 64s 212ms/step - loss: 2.6392\n",
            "Epoch 21/60\n",
            "300/300 [==============================] - 63s 210ms/step - loss: 2.5616\n",
            "Epoch 22/60\n",
            "300/300 [==============================] - 62s 208ms/step - loss: 2.5338\n",
            "Epoch 23/60\n",
            "300/300 [==============================] - 64s 212ms/step - loss: 2.4902\n",
            "Epoch 24/60\n",
            "300/300 [==============================] - 64s 213ms/step - loss: 2.5106\n",
            "Epoch 25/60\n",
            "300/300 [==============================] - 64s 213ms/step - loss: 2.4347\n",
            "Epoch 26/60\n",
            "300/300 [==============================] - 63s 210ms/step - loss: 2.3826\n",
            "Epoch 27/60\n",
            "300/300 [==============================] - 63s 211ms/step - loss: 2.3905\n",
            "Epoch 28/60\n",
            "300/300 [==============================] - 64s 212ms/step - loss: 2.3629\n",
            "Epoch 29/60\n",
            "300/300 [==============================] - 63s 211ms/step - loss: 2.2761\n",
            "Epoch 30/60\n",
            "300/300 [==============================] - 64s 212ms/step - loss: 2.3044\n",
            "Epoch 31/60\n",
            "300/300 [==============================] - 63s 211ms/step - loss: 2.2830\n",
            "Epoch 32/60\n",
            "300/300 [==============================] - 63s 209ms/step - loss: 2.2350\n",
            "Epoch 33/60\n",
            "300/300 [==============================] - 61s 204ms/step - loss: 2.1838\n",
            "Epoch 34/60\n",
            "300/300 [==============================] - 61s 204ms/step - loss: 2.1467\n",
            "Epoch 35/60\n",
            "300/300 [==============================] - 61s 203ms/step - loss: 2.1576\n",
            "Epoch 36/60\n",
            "300/300 [==============================] - 61s 203ms/step - loss: 2.0957\n",
            "Epoch 37/60\n",
            "300/300 [==============================] - 60s 200ms/step - loss: 2.1120\n",
            "Epoch 38/60\n",
            "300/300 [==============================] - 61s 205ms/step - loss: 2.0824\n",
            "Epoch 39/60\n",
            "300/300 [==============================] - 60s 202ms/step - loss: 2.0538\n",
            "Epoch 40/60\n",
            "300/300 [==============================] - 60s 201ms/step - loss: 2.0546\n",
            "Epoch 41/60\n",
            "300/300 [==============================] - 60s 201ms/step - loss: 2.0492\n",
            "Epoch 42/60\n",
            "300/300 [==============================] - 60s 200ms/step - loss: 1.9773\n",
            "Epoch 43/60\n",
            "300/300 [==============================] - 60s 201ms/step - loss: 1.9276\n",
            "Epoch 44/60\n",
            "300/300 [==============================] - 60s 202ms/step - loss: 1.9172\n",
            "Epoch 45/60\n",
            "300/300 [==============================] - 60s 201ms/step - loss: 1.8954\n",
            "Epoch 46/60\n",
            "300/300 [==============================] - 60s 200ms/step - loss: 1.8709\n",
            "Epoch 47/60\n",
            "300/300 [==============================] - 60s 199ms/step - loss: 1.8260\n",
            "Epoch 48/60\n",
            "300/300 [==============================] - 60s 201ms/step - loss: 1.8973\n",
            "Epoch 49/60\n",
            "300/300 [==============================] - 61s 202ms/step - loss: 1.8060\n",
            "Epoch 50/60\n",
            "300/300 [==============================] - 61s 202ms/step - loss: 1.8774\n",
            "Epoch 51/60\n",
            "300/300 [==============================] - 61s 202ms/step - loss: 1.8152\n",
            "Epoch 52/60\n",
            "300/300 [==============================] - 62s 205ms/step - loss: 1.8402\n",
            "Epoch 53/60\n",
            "300/300 [==============================] - 62s 206ms/step - loss: 1.7648\n",
            "Epoch 54/60\n",
            "300/300 [==============================] - 62s 206ms/step - loss: 1.7848\n",
            "Epoch 55/60\n",
            "300/300 [==============================] - 62s 206ms/step - loss: 1.7236\n",
            "Epoch 56/60\n",
            "300/300 [==============================] - 64s 212ms/step - loss: 1.7165\n",
            "Epoch 57/60\n",
            "300/300 [==============================] - 63s 210ms/step - loss: 1.7326\n",
            "Epoch 58/60\n",
            "300/300 [==============================] - 63s 209ms/step - loss: 1.6796\n",
            "Epoch 59/60\n",
            "300/300 [==============================] - 63s 209ms/step - loss: 1.6640\n",
            "Epoch 60/60\n",
            "300/300 [==============================] - 62s 206ms/step - loss: 1.6426\n"
          ],
          "name": "stdout"
        },
        {
          "output_type": "execute_result",
          "data": {
            "text/plain": [
              "<keras.callbacks.callbacks.History at 0x7fa6bc858780>"
            ]
          },
          "metadata": {
            "tags": []
          },
          "execution_count": 17
        }
      ]
    },
    {
      "cell_type": "code",
      "metadata": {
        "id": "P750JNPCCOyg",
        "colab_type": "code",
        "colab": {}
      },
      "source": [
        "model.save('iter60.h5')"
      ],
      "execution_count": 20,
      "outputs": []
    },
    {
      "cell_type": "code",
      "metadata": {
        "id": "P9oXTcB8zmpT",
        "colab_type": "code",
        "colab": {
          "base_uri": "https://localhost:8080/",
          "height": 234
        },
        "outputId": "0875e9ca-959d-44f3-8e81-e238c7fb0150"
      },
      "source": [
        "# 預測\n",
        "characters2 = characters + ' '\n",
        "[X_test, y_test, _, _], _  = next(gen(1))\n",
        "y_pred = base_model.predict(X_test)\n",
        "##用ctc_decode得到解答，自己寫可以參考下方\n",
        "out = K.get_value(K.ctc_decode(y_pred, input_length=np.ones(y_pred.shape[0])*y_pred.shape[1], )[0][0])\n",
        "out = ''.join([characters[x] for x in out[0]])\n",
        "y_true = ''.join([characters[x] for x in y_test[0]])\n",
        "\n",
        "plt.imshow(X_test[0])\n",
        "plt.title('pred:' + str(out) + '\\ntrue: ' + str(y_true))\n",
        "\n",
        "argmax = np.argmax(y_pred, axis=2)[0]"
      ],
      "execution_count": 19,
      "outputs": [
        {
          "output_type": "display_data",
          "data": {
            "image/png": "[encoded data removed]",
            "text/plain": [
              "<Figure size 432x288 with 1 Axes>"
            ]
          },
          "metadata": {
            "tags": [],
            "image/png": {
              "width": 369,
              "height": 217
            },
            "needs_background": "light"
          }
        }
      ]
    }
  ]
}