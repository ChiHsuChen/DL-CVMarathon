{
  "nbformat": 4,
  "nbformat_minor": 0,
  "metadata": {
    "colab": {
      "name": "Day013_HW.ipynb",
      "provenance": []
    },
    "kernelspec": {
      "name": "python3",
      "display_name": "Python 3"
    }
  },
  "cells": [
    {
      "cell_type": "markdown",
      "metadata": {
        "id": "HqMgCJZoGXKu",
        "colab_type": "text"
      },
      "source": [
        "Google Colab上執行  \n",
        "使用Lena，放在google colab的sample_data目錄下後再進行存取  \n",
        "SourceCode@Google Colab: https://colab.research.google.com/drive/1-VReH0VwvDSL-Z6MkfOPVOf6B-rmo702"
      ]
    },
    {
      "cell_type": "code",
      "metadata": {
        "id": "YLktWR270V0X",
        "colab_type": "code",
        "colab": {}
      },
      "source": [
        "# _*_ coding: utf-8 _*_\n",
        "# _*_ coding: cp950 _*_\n",
        "\n",
        "# author: Chi-Hsu Chen (css920@gmail.com)\n",
        "\n",
        "import numpy as np\n",
        "import cv2\n",
        "import time\n",
        "from google.colab.patches import cv2_imshow\n",
        "\n",
        "from keras.models import Sequential\n",
        "from keras.layers import Convolution2D\n",
        "from keras.layers import Input, Dense\n",
        "from keras.layers import MaxPooling2D, Flatten\n",
        "from keras.models import Model"
      ],
      "execution_count": 0,
      "outputs": []
    },
    {
      "cell_type": "code",
      "metadata": {
        "id": "vfkcneutDpP2",
        "colab_type": "code",
        "colab": {
          "base_uri": "https://localhost:8080/",
          "height": 433
        },
        "outputId": "084be964-6ed1-4449-b41e-73d4b5601a15"
      },
      "source": [
        "# 定義網路結構的輸入\n",
        "input_shape=(32,32,1)\n",
        "\n",
        "model=Sequential()\n",
        "\n",
        "# pool_size = 2,2    stride = 2,2\n",
        "model.add(Convolution2D(filters=32,kernel_size=(3,3),padding='same',input_shape=input_shape))\n",
        "model.add(MaxPooling2D(pool_size=(2,2),strides=(2,2)))\n",
        "\n",
        "# pool_size = 2,2    stride = 2,2\n",
        "model.add(Convolution2D(filters=64,kernel_size=(3,3),padding='same'))\n",
        "model.add(MaxPooling2D(pool_size=(2,2),strides=(2,2)))\n",
        "\n",
        "# pool_size = 1,1    stride = 1,1\n",
        "model.add(Convolution2D(filters=128,kernel_size=(3,3),padding='same'))\n",
        "model.add(MaxPooling2D(pool_size=(1,1),strides=(1,1)))\n",
        "\n",
        "model.add(Flatten())\n",
        "\n",
        "model.add(Dense(28))\n",
        "\n",
        "model.summary()"
      ],
      "execution_count": 12,
      "outputs": [
        {
          "output_type": "stream",
          "text": [
            "Model: \"sequential_10\"\n",
            "_________________________________________________________________\n",
            "Layer (type)                 Output Shape              Param #   \n",
            "=================================================================\n",
            "conv2d_14 (Conv2D)           (None, 32, 32, 32)        320       \n",
            "_________________________________________________________________\n",
            "max_pooling2d_12 (MaxPooling (None, 16, 16, 32)        0         \n",
            "_________________________________________________________________\n",
            "conv2d_15 (Conv2D)           (None, 16, 16, 64)        18496     \n",
            "_________________________________________________________________\n",
            "max_pooling2d_13 (MaxPooling (None, 8, 8, 64)          0         \n",
            "_________________________________________________________________\n",
            "conv2d_16 (Conv2D)           (None, 8, 8, 128)         73856     \n",
            "_________________________________________________________________\n",
            "max_pooling2d_14 (MaxPooling (None, 8, 8, 128)         0         \n",
            "_________________________________________________________________\n",
            "flatten_2 (Flatten)          (None, 8192)              0         \n",
            "_________________________________________________________________\n",
            "dense_2 (Dense)              (None, 28)                229404    \n",
            "=================================================================\n",
            "Total params: 322,076\n",
            "Trainable params: 322,076\n",
            "Non-trainable params: 0\n",
            "_________________________________________________________________\n"
          ],
          "name": "stdout"
        }
      ]
    }
  ]
}