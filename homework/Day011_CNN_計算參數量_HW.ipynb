{
  "nbformat": 4,
  "nbformat_minor": 0,
  "metadata": {
    "colab": {
      "name": "Day011_CNN_計算參數量_HW.ipynb",
      "provenance": [],
      "collapsed_sections": []
    },
    "kernelspec": {
      "name": "python3",
      "display_name": "Python 3"
    }
  },
  "cells": [
    {
      "cell_type": "markdown",
      "metadata": {
        "id": "j7ZUjf6n5rmQ",
        "colab_type": "text"
      },
      "source": [
        "Google Colab上執行  \n",
        "使用Lena，放在google colab的sample_data目錄下後再進行存取  \n",
        "SourceCode@Google Colab: https://colab.research.google.com/drive/1M3zQbr3nzZk3tI0chOD9RsbZPLHxs7R0"
      ]
    },
    {
      "cell_type": "code",
      "metadata": {
        "id": "Wyc2zddQ5lFi",
        "colab_type": "code",
        "colab": {
          "base_uri": "https://localhost:8080/",
          "height": 35
        },
        "outputId": "41cec83a-3cab-42ae-e81a-1397eec8b299"
      },
      "source": [
        "# _*_ coding: utf-8 _*_\n",
        "# _*_ coding: cp950 _*_\n",
        "\n",
        "# author: Chi-Hsu Chen (css920@gmail.com)\n",
        "\n",
        "import numpy as np\n",
        "import cv2\n",
        "import time\n",
        "from google.colab.patches import cv2_imshow\n",
        "\n",
        "from keras.models import Sequential\n",
        "from keras.layers import Convolution2D\n",
        "from keras.layers import Input, Dense\n",
        "from keras.models import Model"
      ],
      "execution_count": 2,
      "outputs": [
        {
          "output_type": "stream",
          "text": [
            "Using TensorFlow backend.\n"
          ],
          "name": "stderr"
        }
      ]
    },
    {
      "cell_type": "markdown",
      "metadata": {
        "id": "bnOcBrXm_RYx",
        "colab_type": "text"
      },
      "source": [
        "# Conv2D"
      ]
    },
    {
      "cell_type": "code",
      "metadata": {
        "id": "hWxZMWKv8M_D",
        "colab_type": "code",
        "colab": {
          "base_uri": "https://localhost:8080/",
          "height": 191
        },
        "outputId": "cf536aff-f69d-41e7-a519-6ad05fc6ea8d"
      },
      "source": [
        "# 定義model為sequential\n",
        "classifier=Sequential()\n",
        "# 加入一層-Convolution2D - Kernel size 3*3，用32張，輸入大小28*28*1\n",
        "classifier.add(Convolution2D(filters=32,kernel_size=(3,3),activation='relu',input_shape=(28,28,1)))\n",
        "# 印出該model結構\n",
        "# Param # = (卷積核size + bias #) * filter_size = (3*3 + 1) * 32 = 320\n",
        "print(classifier.summary())"
      ],
      "execution_count": 9,
      "outputs": [
        {
          "output_type": "stream",
          "text": [
            "Model: \"sequential_7\"\n",
            "_________________________________________________________________\n",
            "Layer (type)                 Output Shape              Param #   \n",
            "=================================================================\n",
            "conv2d_5 (Conv2D)            (None, 26, 26, 32)        320       \n",
            "=================================================================\n",
            "Total params: 320\n",
            "Trainable params: 320\n",
            "Non-trainable params: 0\n",
            "_________________________________________________________________\n"
          ],
          "name": "stdout"
        }
      ]
    },
    {
      "cell_type": "markdown",
      "metadata": {
        "id": "ECu6R2hy_VTr",
        "colab_type": "text"
      },
      "source": [
        "# Dense"
      ]
    },
    {
      "cell_type": "code",
      "metadata": {
        "id": "aEmagt0i_X_W",
        "colab_type": "code",
        "colab": {
          "base_uri": "https://localhost:8080/",
          "height": 208
        },
        "outputId": "f768275b-aa21-42a2-a93d-2a825e1a5106"
      },
      "source": [
        "classifier2=Sequential()\n",
        "# 加入一層-Dense(全連接層)\n",
        "classifier2.add(Dense(784,activation='relu',input_shape=(28,28,1)))\n",
        "\n",
        "# param # = (weight # + bias #) * neuron # = (1 + 1) *784 = 1568\n",
        "print(classifier2.summary())\n"
      ],
      "execution_count": 19,
      "outputs": [
        {
          "output_type": "stream",
          "text": [
            "Model: \"sequential_14\"\n",
            "_________________________________________________________________\n",
            "Layer (type)                 Output Shape              Param #   \n",
            "=================================================================\n",
            "dense_6 (Dense)              (None, 28, 28, 784)       1568      \n",
            "=================================================================\n",
            "Total params: 1,568\n",
            "Trainable params: 1,568\n",
            "Non-trainable params: 0\n",
            "_________________________________________________________________\n",
            "None\n"
          ],
          "name": "stdout"
        }
      ]
    }
  ]
}