{
  "nbformat": 4,
  "nbformat_minor": 0,
  "metadata": {
    "colab": {
      "name": "Day34.YOLO 細節理解 - 損失函數_HW.ipynb",
      "provenance": [],
      "collapsed_sections": []
    },
    "kernelspec": {
      "name": "python3",
      "display_name": "Python 3"
    }
  },
  "cells": [
    {
      "cell_type": "markdown",
      "metadata": {
        "id": "mr5NaYBwRJzA",
        "colab_type": "text"
      },
      "source": [
        "Google Colab上執行 SourceCode@Google Colab: https://colab.research.google.com/drive/1E2n_7HYUr-Z3mys02PPTUI8w2kiZlbj_"
      ]
    },
    {
      "cell_type": "code",
      "metadata": {
        "id": "2I9QxZ-zZL_l",
        "colab_type": "code",
        "colab": {
          "base_uri": "https://localhost:8080/",
          "height": 35
        },
        "outputId": "4471b957-d966-4f09-8ec1-f5480d95a7f1"
      },
      "source": [
        "# _*_ coding: utf-8 _*_\n",
        "# _*_ coding: cp950 _*_\n",
        "\n",
        "# author: Chi-Hsu Chen (css920@gmail.com)\n",
        "\n",
        "import numpy as np\n",
        "import cv2\n",
        "import time\n",
        "from google.colab.patches import cv2_imshow\n",
        "\n",
        "from keras import utils\n",
        "from keras.preprocessing.image import ImageDataGenerator\n",
        "\n",
        "from keras.models import Model,Sequential,Input\n",
        "from keras.layers import Dense,Conv2D,Flatten,MaxPooling2D,Convolution2D\n",
        "from keras.layers import Input,GlobalAveragePooling2D,GlobalMaxPooling2D\n",
        "from keras.layers import BatchNormalization,Activation,Dropout,Reshape\n",
        "from keras import layers\n",
        "from keras import backend as K\n",
        "from keras.layers import Lambda\n",
        "from keras.layers import Concatenate\n",
        "\n",
        "from keras.datasets import cifar10\n",
        "from sklearn.preprocessing import OneHotEncoder\n",
        "\n",
        "import keras"
      ],
      "execution_count": 1,
      "outputs": [
        {
          "output_type": "stream",
          "text": [
            "Using TensorFlow backend.\n"
          ],
          "name": "stderr"
        }
      ]
    },
    {
      "cell_type": "markdown",
      "metadata": {
        "id": "34KIflI-dryO",
        "colab_type": "text"
      },
      "source": [
        "bbox 寬高計算損失方式和bbox中心計算損失方式有哪邊不一樣嗎? 為什麼要有不同的設計?\n",
        "Ans:\n",
        "bbox寬高計算損失方式\n",
        "bbox中心計算損失方式\n",
        "<= 中心座標計算方式沒有考慮到寬高，當有另外一個bounding box時，且寬高跟ground truth差異大時，可能不能很好的辨識較佳的bounding box"
      ]
    }
  ]
}